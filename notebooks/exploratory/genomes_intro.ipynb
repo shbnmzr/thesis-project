{
 "cells": [
  {
   "metadata": {
    "collapsed": true
   },
   "cell_type": "markdown",
   "source": "# Introduction to Genome Files",
   "id": "5af16bc5a52e93e6"
  },
  {
   "metadata": {
    "ExecuteTime": {
     "end_time": "2025-10-20T12:16:02.919562Z",
     "start_time": "2025-10-20T12:16:02.473703Z"
    }
   },
   "cell_type": "code",
   "source": "import numpy as np",
   "id": "77e3f75e9f8ca446",
   "outputs": [],
   "execution_count": 1
  },
  {
   "metadata": {},
   "cell_type": "code",
   "outputs": [],
   "execution_count": null,
   "source": "",
   "id": "b36729b8a38aa7dc"
  }
 ],
 "metadata": {
  "kernelspec": {
   "display_name": "Python 3",
   "language": "python",
   "name": "python3"
  },
  "language_info": {
   "codemirror_mode": {
    "name": "ipython",
    "version": 2
   },
   "file_extension": ".py",
   "mimetype": "text/x-python",
   "name": "python",
   "nbconvert_exporter": "python",
   "pygments_lexer": "ipython2",
   "version": "2.7.6"
  }
 },
 "nbformat": 4,
 "nbformat_minor": 5
}
