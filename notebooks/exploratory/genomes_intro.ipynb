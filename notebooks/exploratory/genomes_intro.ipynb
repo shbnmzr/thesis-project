{
 "cells": [
  {
   "metadata": {
    "collapsed": true
   },
   "cell_type": "markdown",
   "source": "# Introduction to Genome Files",
   "id": "5af16bc5a52e93e6"
  },
  {
   "metadata": {
    "ExecuteTime": {
     "end_time": "2025-10-20T12:39:50.499446Z",
     "start_time": "2025-10-20T12:39:50.496046Z"
    }
   },
   "cell_type": "code",
   "source": [
    "import numpy as np\n",
    "from pathlib import Path\n",
    "from Bio import SeqIO"
   ],
   "id": "77e3f75e9f8ca446",
   "outputs": [],
   "execution_count": 46
  },
  {
   "metadata": {
    "ExecuteTime": {
     "end_time": "2025-10-20T12:39:50.523650Z",
     "start_time": "2025-10-20T12:39:50.522019Z"
    }
   },
   "cell_type": "code",
   "source": [
    "glob_pattern = '*.fna'\n",
    "fna_dir = Path('../../samples/genomes/')"
   ],
   "id": "b36729b8a38aa7dc",
   "outputs": [],
   "execution_count": 47
  },
  {
   "metadata": {
    "ExecuteTime": {
     "end_time": "2025-10-20T12:39:50.533389Z",
     "start_time": "2025-10-20T12:39:50.531501Z"
    }
   },
   "cell_type": "code",
   "source": "genomes_paths = [file for file in fna_dir.glob(glob_pattern) if file.is_file()]",
   "id": "2389aa20bd662ad6",
   "outputs": [],
   "execution_count": 48
  },
  {
   "metadata": {
    "ExecuteTime": {
     "end_time": "2025-10-20T12:39:50.538628Z",
     "start_time": "2025-10-20T12:39:50.536973Z"
    }
   },
   "cell_type": "code",
   "source": [
    "def load_genome(path: Path):\n",
    "    rec = SeqIO.parse(str(path), 'fasta')\n",
    "    for i in rec:\n",
    "        print(i)\n",
    "    return rec"
   ],
   "id": "7cfb2f3e35ffa997",
   "outputs": [],
   "execution_count": 49
  },
  {
   "metadata": {
    "ExecuteTime": {
     "end_time": "2025-10-20T12:39:50.552690Z",
     "start_time": "2025-10-20T12:39:50.543305Z"
    }
   },
   "cell_type": "code",
   "source": "genome_1 = load_genome(genomes_paths[2])",
   "id": "4efd25be06b3af7",
   "outputs": [
    {
     "name": "stdout",
     "output_type": "stream",
     "text": [
      "ID: AE004437.1\n",
      "Name: AE004437.1\n",
      "Description: AE004437.1 Halobacterium sp. NRC-1, complete genome\n",
      "Number of features: 0\n",
      "Seq('TTGACCCACTGAATCACGTCTGACCGCGCGTACGCGGTCACTTGCGGTGCCGTT...TGA')\n",
      "ID: AF016485.1\n",
      "Name: AF016485.1\n",
      "Description: AF016485.1 Halobacterium sp. NRC-1 plasmid pNRC100, complete sequence\n",
      "Number of features: 0\n",
      "Seq('GGCTACGTATCGGAATTCTGGCTATCACGGGTTAGCGTGGTGGACCGCTCATGA...TGA')\n",
      "ID: AE004438.1\n",
      "Name: AE004438.1\n",
      "Description: AE004438.1 Halobacterium sp. NRC-1 plasmid pNRC200 complete genome\n",
      "Number of features: 0\n",
      "Seq('GGCTACGTATCGGAATTCTGGCTATCACGGGTTAGCGTGGTGGACCGCTCATGA...TGA')\n"
     ]
    }
   ],
   "execution_count": 50
  },
  {
   "metadata": {
    "ExecuteTime": {
     "end_time": "2025-10-20T12:39:50.559239Z",
     "start_time": "2025-10-20T12:39:50.557852Z"
    }
   },
   "cell_type": "code",
   "source": "",
   "id": "da76dec8f6ccd1e1",
   "outputs": [],
   "execution_count": null
  }
 ],
 "metadata": {
  "kernelspec": {
   "display_name": "Python 3",
   "language": "python",
   "name": "python3"
  },
  "language_info": {
   "codemirror_mode": {
    "name": "ipython",
    "version": 2
   },
   "file_extension": ".py",
   "mimetype": "text/x-python",
   "name": "python",
   "nbconvert_exporter": "python",
   "pygments_lexer": "ipython2",
   "version": "2.7.6"
  }
 },
 "nbformat": 4,
 "nbformat_minor": 5
}
