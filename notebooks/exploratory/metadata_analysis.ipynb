{
 "cells": [
  {
   "cell_type": "markdown",
   "source": [
    "# Data Overview"
   ],
   "metadata": {
    "collapsed": false
   },
   "id": "e1bb91fac139da3a"
  },
  {
   "cell_type": "code",
   "outputs": [],
   "source": [
    "import pandas as pd\n",
    "import seaborn as sns\n",
    "import matplotlib.pyplot as plt\n",
    "from pathlib import Path\n",
    "sns.set(style=\"whitegrid\")"
   ],
   "metadata": {
    "collapsed": false,
    "ExecuteTime": {
     "end_time": "2025-05-23T13:41:04.275894Z",
     "start_time": "2025-05-23T13:41:04.266754Z"
    }
   },
   "id": "67680c244fcd8d79",
   "execution_count": 83
  },
  {
   "cell_type": "code",
   "outputs": [],
   "source": [
    "log_dir = Path('../../results/logs/raw-metadata')"
   ],
   "metadata": {
    "collapsed": false,
    "ExecuteTime": {
     "end_time": "2025-05-23T13:41:04.276406Z",
     "start_time": "2025-05-23T13:41:04.270280Z"
    }
   },
   "id": "d42d78785eda74c3",
   "execution_count": 84
  },
  {
   "cell_type": "code",
   "outputs": [],
   "source": [
    "def load_ftp_paths(log_dir, category):\n",
    "    # Get the path to the txt file\n",
    "    txt_file_path = list(log_dir.glob(f\"./{category}_ftp_paths.txt\"))\n",
    "    \n",
    "    # Ensure there's exactly one matching file\n",
    "    if not txt_file_path:\n",
    "        raise FileNotFoundError(\"No matching txt file found.\")\n",
    "    elif len(txt_file_path) > 1:\n",
    "        raise ValueError(\"Multiple matching txt files found.\")\n",
    "    \n",
    "    # Read the txt file into a DataFrame\n",
    "    df = pd.read_csv(txt_file_path[0], header=None, names=[\"path\"])  \n",
    "    return df"
   ],
   "metadata": {
    "collapsed": false,
    "ExecuteTime": {
     "end_time": "2025-05-23T13:41:04.276831Z",
     "start_time": "2025-05-23T13:41:04.275054Z"
    }
   },
   "id": "465a357eed9be973",
   "execution_count": 85
  },
  {
   "cell_type": "code",
   "outputs": [],
   "source": [
    "categories = ['bacteria', 'fungi', 'viral', 'archaea', 'protozoa']"
   ],
   "metadata": {
    "collapsed": false,
    "ExecuteTime": {
     "end_time": "2025-05-23T13:41:04.288733Z",
     "start_time": "2025-05-23T13:41:04.278223Z"
    }
   },
   "id": "860949ac626d2ae8",
   "execution_count": 86
  },
  {
   "cell_type": "code",
   "outputs": [],
   "source": [
    "ftp_files = {category: load_ftp_paths(log_dir, category) for category in categories}"
   ],
   "metadata": {
    "collapsed": false,
    "ExecuteTime": {
     "end_time": "2025-05-23T13:41:04.645724Z",
     "start_time": "2025-05-23T13:41:04.281445Z"
    }
   },
   "id": "570e3dc7045e2a7f",
   "execution_count": 87
  },
  {
   "cell_type": "code",
   "outputs": [
    {
     "name": "stdout",
     "output_type": "stream",
     "text": [
      "bacteria: path    267630\n",
      "dtype: int64\n",
      "fungi: path    9762\n",
      "dtype: int64\n",
      "viral: path    154164\n",
      "dtype: int64\n",
      "archaea: path    5883\n",
      "dtype: int64\n",
      "protozoa: path    1278\n",
      "dtype: int64\n"
     ]
    }
   ],
   "source": [
    "for category in categories:\n",
    "    print(f'{category}: {ftp_files[category].count()}')"
   ],
   "metadata": {
    "collapsed": false,
    "ExecuteTime": {
     "end_time": "2025-05-23T13:41:04.659242Z",
     "start_time": "2025-05-23T13:41:04.651061Z"
    }
   },
   "id": "7e8dbcf6e9f8c3d3",
   "execution_count": 88
  },
  {
   "cell_type": "code",
   "outputs": [],
   "source": [
    "def load_assembly_summary(file_path: Path, category: str) -> pd.DataFrame:\n",
    "    \"\"\"\n",
    "    Load a NCBI assembly_summary.txt file, handling comment lines and headers.\n",
    "    \"\"\"\n",
    "    if not file_path.exists():\n",
    "        raise FileNotFoundError(f\"{file_path} not found.\")\n",
    "    \n",
    "    # Extract the header from the comment line\n",
    "    with open(file_path) as f:\n",
    "        for line in f:\n",
    "            if line.startswith(\"#assembly_accession\"):\n",
    "                header = line.strip(\"#\").strip().split(\"\\t\")\n",
    "                break\n",
    "\n",
    "    # Now read the file with no header, skipping all comment lines\n",
    "    df = pd.read_csv(file_path, sep='\\t', comment='#', header=None, names=header, low_memory=False)\n",
    "    df['category'] = category\n",
    "\n",
    "    # Convert release date column if present\n",
    "    if 'seq_rel_date' in df.columns:\n",
    "        df['seq_rel_date'] = pd.to_datetime(df['seq_rel_date'], errors='coerce')\n",
    "\n",
    "    return df"
   ],
   "metadata": {
    "collapsed": false,
    "ExecuteTime": {
     "end_time": "2025-05-23T13:41:04.662688Z",
     "start_time": "2025-05-23T13:41:04.660306Z"
    }
   },
   "id": "4cb9deb174bbb143",
   "execution_count": 89
  },
  {
   "cell_type": "code",
   "outputs": [],
   "source": [
    "def load_all_summaries(metadata_dir: Path, categories: list) -> pd.DataFrame:\n",
    "    dfs = []\n",
    "    for category in categories:\n",
    "        file_path = metadata_dir / f\"{category}_assembly_summary.txt\"\n",
    "        try:\n",
    "            df = load_assembly_summary(file_path, category)\n",
    "            dfs.append(df)\n",
    "        except FileNotFoundError:\n",
    "            print(f\"[WARNING] Missing: {file_path.name}\")\n",
    "    if not dfs:\n",
    "        raise ValueError(\"No valid files loaded.\")\n",
    "    return pd.concat(dfs, ignore_index=True)"
   ],
   "metadata": {
    "collapsed": false,
    "ExecuteTime": {
     "end_time": "2025-05-23T13:41:04.666397Z",
     "start_time": "2025-05-23T13:41:04.662787Z"
    }
   },
   "id": "2e7dd68bdd11836f",
   "execution_count": 90
  },
  {
   "cell_type": "code",
   "outputs": [],
   "source": [
    "def summarize_assembly_levels(df: pd.DataFrame) -> pd.DataFrame:\n",
    "    return df.groupby(['category', 'assembly_level']).size().unstack(fill_value=0)"
   ],
   "metadata": {
    "collapsed": false,
    "ExecuteTime": {
     "end_time": "2025-05-23T13:41:04.666644Z",
     "start_time": "2025-05-23T13:41:04.664655Z"
    }
   },
   "id": "6de503f583577159",
   "execution_count": 91
  },
  {
   "cell_type": "code",
   "outputs": [],
   "source": [
    "def plot_submissions_over_time(df: pd.DataFrame, output_path: Path = None):\n",
    "    df = df.dropna(subset=['seq_rel_date']).copy()\n",
    "    df['year'] = df['seq_rel_date'].dt.year\n",
    "    plt.figure(figsize=(10, 6))\n",
    "    sns.histplot(data=df, x='year', hue='category', multiple='stack', bins=30, palette=\"Set2\")\n",
    "    plt.title(\"Genome Assembly Submissions Over Time by Category\")\n",
    "    plt.xlabel(\"Year\")\n",
    "    plt.ylabel(\"Number of Assemblies\")\n",
    "    plt.tight_layout()\n",
    "    if output_path:\n",
    "        plt.savefig(output_path)\n",
    "    plt.show()"
   ],
   "metadata": {
    "collapsed": false,
    "ExecuteTime": {
     "end_time": "2025-05-23T13:41:04.687123Z",
     "start_time": "2025-05-23T13:41:04.665984Z"
    }
   },
   "id": "e39fab1620044fba",
   "execution_count": 92
  },
  {
   "cell_type": "code",
   "outputs": [],
   "source": [
    "def run_metadata_analysis(metadata_dir: Path):\n",
    "    categories = [\"bacteria\", \"archaea\", \"viral\", \"protozoa\"]\n",
    "    \n",
    "    print(\"[INFO] Loading metadata...\")\n",
    "    df = load_all_summaries(metadata_dir, categories)\n",
    "    \n",
    "    print(\"[INFO] Summarizing assembly levels...\")\n",
    "    summary = summarize_assembly_levels(df)\n",
    "    print(summary)\n",
    "    \n",
    "    print(\"[INFO] Plotting submission trends...\")\n",
    "    plot_submissions_over_time(df, output_path=metadata_dir / \"assembly_submission_trend.pdf\")\n",
    "    \n",
    "    return df, summary"
   ],
   "metadata": {
    "collapsed": false,
    "ExecuteTime": {
     "end_time": "2025-05-23T13:41:04.687355Z",
     "start_time": "2025-05-23T13:41:04.669642Z"
    }
   },
   "id": "f28d4801b5339e1d",
   "execution_count": 93
  },
  {
   "cell_type": "code",
   "outputs": [
    {
     "name": "stdout",
     "output_type": "stream",
     "text": [
      "[INFO] Loading metadata...\n",
      "[INFO] Summarizing assembly levels...\n",
      "assembly_level  Chromosome  Complete Genome   Contig  Scaffold\n",
      "category                                                      \n",
      "archaea                120              811    16879     12740\n",
      "bacteria              9219            64975  2197938    391971\n",
      "protozoa               263               36      793      1318\n",
      "viral                19902           200066    10347        50\n",
      "[INFO] Plotting submission trends...\n"
     ]
    },
    {
     "data": {
      "text/plain": "<Figure size 1000x600 with 1 Axes>",
      "image/png": "[encoded data removed]"
     },
     "metadata": {},
     "output_type": "display_data"
    }
   ],
   "source": [
    "df, summary = run_metadata_analysis(log_dir)"
   ],
   "metadata": {
    "collapsed": false,
    "ExecuteTime": {
     "end_time": "2025-05-23T13:41:52.882610Z",
     "start_time": "2025-05-23T13:41:04.672184Z"
    }
   },
   "id": "f0fe9aee78b68dd9",
   "execution_count": 94
  },
  {
   "cell_type": "code",
   "outputs": [],
   "source": [],
   "metadata": {
    "collapsed": false,
    "ExecuteTime": {
     "end_time": "2025-05-23T13:41:52.883733Z",
     "start_time": "2025-05-23T13:41:50.446295Z"
    }
   },
   "id": "e330c524e83b8e43",
   "execution_count": 94
  }
 ],
 "metadata": {
  "kernelspec": {
   "display_name": "Python 3",
   "language": "python",
   "name": "python3"
  },
  "language_info": {
   "codemirror_mode": {
    "name": "ipython",
    "version": 2
   },
   "file_extension": ".py",
   "mimetype": "text/x-python",
   "name": "python",
   "nbconvert_exporter": "python",
   "pygments_lexer": "ipython2",
   "version": "2.7.6"
  }
 },
 "nbformat": 4,
 "nbformat_minor": 5
}
