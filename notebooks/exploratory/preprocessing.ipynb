{
 "cells": [
  {
   "cell_type": "code",
   "execution_count": 24,
   "id": "initial_id",
   "metadata": {
    "collapsed": true,
    "ExecuteTime": {
     "end_time": "2025-05-21T10:57:00.188228Z",
     "start_time": "2025-05-21T10:57:00.185837Z"
    }
   },
   "outputs": [],
   "source": [
    "import pandas as pd\n",
    "import numpy as np\n",
    "import matplotlib.pyplot as plt\n",
    "from pathlib import Path"
   ]
  },
  {
   "cell_type": "code",
   "outputs": [],
   "source": [
    "log_dir = Path('../../results/logs/preprocessing-logs')"
   ],
   "metadata": {
    "collapsed": false,
    "ExecuteTime": {
     "end_time": "2025-05-21T10:57:00.455243Z",
     "start_time": "2025-05-21T10:57:00.452614Z"
    }
   },
   "id": "2b72e576af88767",
   "execution_count": 25
  },
  {
   "cell_type": "code",
   "outputs": [],
   "source": [
    "def load_logs(log_dir, category):\n",
    "    csv_files = list(log_dir.glob(f\"./{category}/{category}_batch_*_report.csv\"))\n",
    "    all_dfs = [pd.read_csv(csv_file) for csv_file in csv_files]\n",
    "    df = pd.concat(all_dfs, ignore_index=True)\n",
    "    return df"
   ],
   "metadata": {
    "collapsed": false,
    "ExecuteTime": {
     "end_time": "2025-05-21T10:57:00.755698Z",
     "start_time": "2025-05-21T10:57:00.754251Z"
    }
   },
   "id": "f86bae6d0dbc6cf8",
   "execution_count": 26
  },
  {
   "cell_type": "code",
   "outputs": [],
   "source": [
    "def analyze_logs(log_dir, category):\n",
    "    df = load_logs(log_dir, category)\n",
    "    \n",
    "    # Convert numerical columns to float if necessary\n",
    "    df[\"GC %\"] = df[\"GC %\"].astype(float)\n",
    "    df[\"Avg Length\"] = df[\"Avg Length\"].astype(float)\n",
    "\n",
    "    # Summary counts\n",
    "    kept = df[df[\"Status\"] == \"KEPT\"]\n",
    "    deleted = df[df[\"Status\"] != \"KEPT\"]\n",
    "\n",
    "    print(f\"\\n===== Summary for {category.upper()} =====\")\n",
    "    print(f\"Total genomes processed: {len(df)}\")\n",
    "    print(f\" - KEPT: {len(kept)}\")\n",
    "    print(f\" - DELETED/FAILED: {len(deleted)}\")\n",
    "\n",
    "    # Aggregate contig stats\n",
    "    total_contigs_before = df[\"Original Contigs\"].sum()\n",
    "    total_after_filter = df[\"After Filtering\"].sum()\n",
    "    total_after_cdhit = df[\"After CD-HIT\"].sum()\n",
    "    \n",
    "    print(f\"\\nContig Counts:\")\n",
    "    print(f\" - Original contigs: {total_contigs_before:,}\")\n",
    "    print(f\" - After filtering: {total_after_filter:,}\")\n",
    "    print(f\" - After CD-HIT: {total_after_cdhit:,}\")\n",
    "\n",
    "    # GC and Length stats (for KEPT)\n",
    "    mean_gc = kept[\"GC %\"].mean()\n",
    "    mean_len = kept[\"Avg Length\"].mean()\n",
    "    total_bases = (kept[\"After CD-HIT\"] * kept[\"Avg Length\"]).sum()\n",
    "\n",
    "    print(f\"\\nStatistics for KEPT files:\")\n",
    "    print(f\" - Mean GC %: {mean_gc:.2f}\")\n",
    "    print(f\" - Mean Avg Length: {mean_len:.1f} bp\")\n",
    "    print(f\" - Total bases retained: {int(total_bases):,}\")\n",
    "\n",
    "    # Status breakdown\n",
    "    print(f\"\\nStatus breakdown:\")\n",
    "    print(df[\"Status\"].value_counts())\n",
    "\n",
    "    return df"
   ],
   "metadata": {
    "collapsed": false,
    "ExecuteTime": {
     "end_time": "2025-05-21T10:57:01.073733Z",
     "start_time": "2025-05-21T10:57:01.072187Z"
    }
   },
   "id": "61821a1f480fc1c1",
   "execution_count": 27
  },
  {
   "cell_type": "code",
   "outputs": [
    {
     "name": "stdout",
     "output_type": "stream",
     "text": [
      "\n",
      "===== Summary for ARCHAEA =====\n",
      "Total genomes processed: 5883\n",
      " - KEPT: 5001\n",
      " - DELETED/FAILED: 882\n",
      "\n",
      "Contig Counts:\n",
      " - Original contigs: 852,831\n",
      " - After filtering: 790,276\n",
      " - After CD-HIT: 788,172\n",
      "\n",
      "Statistics for KEPT files:\n",
      " - Mean GC %: 45.86\n",
      " - Mean Avg Length: 21557.0 bp\n",
      " - Total bases retained: 7,660,900,037\n",
      "\n",
      "Status breakdown:\n",
      "Status\n",
      "KEPT                               5001\n",
      "DELETED (too few contigs)           626\n",
      "FAILED (CD-HIT)                     250\n",
      "DELETED (empty after filtering)       6\n",
      "Name: count, dtype: int64\n"
     ]
    }
   ],
   "source": [
    "archaea_df = analyze_logs(log_dir, 'archaea') "
   ],
   "metadata": {
    "collapsed": false,
    "ExecuteTime": {
     "end_time": "2025-05-21T10:57:01.784379Z",
     "start_time": "2025-05-21T10:57:01.767050Z"
    }
   },
   "id": "b0c50f2e70ca5708",
   "execution_count": 28
  },
  {
   "cell_type": "code",
   "outputs": [],
   "source": [],
   "metadata": {
    "collapsed": false
   },
   "id": "b3b84a6e991a3780"
  }
 ],
 "metadata": {
  "kernelspec": {
   "display_name": "Python 3",
   "language": "python",
   "name": "python3"
  },
  "language_info": {
   "codemirror_mode": {
    "name": "ipython",
    "version": 2
   },
   "file_extension": ".py",
   "mimetype": "text/x-python",
   "name": "python",
   "nbconvert_exporter": "python",
   "pygments_lexer": "ipython2",
   "version": "2.7.6"
  }
 },
 "nbformat": 4,
 "nbformat_minor": 5
}
