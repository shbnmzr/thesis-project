{
 "cells": [
  {
   "cell_type": "code",
   "execution_count": 1,
   "id": "initial_id",
   "metadata": {
    "collapsed": true,
    "ExecuteTime": {
     "end_time": "2025-06-04T08:52:37.404957Z",
     "start_time": "2025-06-04T08:52:35.134383Z"
    }
   },
   "outputs": [],
   "source": [
    "import pandas as pd\n",
    "import numpy as np\n",
    "import matplotlib.pyplot as plt\n",
    "from pathlib import Path"
   ]
  },
  {
   "cell_type": "code",
   "outputs": [],
   "source": [
    "log_dir = Path('../../results/logs/preprocessing-logs')"
   ],
   "metadata": {
    "collapsed": false,
    "ExecuteTime": {
     "end_time": "2025-06-04T08:52:37.407271Z",
     "start_time": "2025-06-04T08:52:37.405775Z"
    }
   },
   "id": "2b72e576af88767",
   "execution_count": 2
  },
  {
   "cell_type": "code",
   "outputs": [],
   "source": [
    "def load_training_logs(log_dir, category):\n",
    "    csv_files = list(log_dir.glob(f\"./{category}_preprocessing_report.csv\"))\n",
    "    all_dfs = [pd.read_csv(csv_file) for csv_file in csv_files]\n",
    "    df = pd.concat(all_dfs, ignore_index=True)\n",
    "    return df"
   ],
   "metadata": {
    "collapsed": false,
    "ExecuteTime": {
     "end_time": "2025-06-04T08:52:37.409096Z",
     "start_time": "2025-06-04T08:52:37.407677Z"
    }
   },
   "id": "f86bae6d0dbc6cf8",
   "execution_count": 3
  },
  {
   "cell_type": "code",
   "outputs": [],
   "source": [
    "def load_val_logs(log_dir, category):\n",
    "    csv_files = list(log_dir.glob(f\"./{category}_val_preprocessing_report.csv\"))\n",
    "    all_dfs = [pd.read_csv(csv_file) for csv_file in csv_files]\n",
    "    df = pd.concat(all_dfs, ignore_index=True)\n",
    "    return df"
   ],
   "metadata": {
    "collapsed": false,
    "ExecuteTime": {
     "end_time": "2025-06-04T08:52:37.411916Z",
     "start_time": "2025-06-04T08:52:37.410301Z"
    }
   },
   "id": "7bad874ea8ab2fd9",
   "execution_count": 4
  },
  {
   "cell_type": "code",
   "outputs": [],
   "source": [
    "def load_test_logs(log_dir, category):\n",
    "    csv_files = list(log_dir.glob(f\"./{category}_test_preprocessing_report.csv\"))\n",
    "    all_dfs = [pd.read_csv(csv_file) for csv_file in csv_files]\n",
    "    df = pd.concat(all_dfs, ignore_index=True)\n",
    "    return df"
   ],
   "metadata": {
    "collapsed": false,
    "ExecuteTime": {
     "end_time": "2025-06-04T08:52:37.413992Z",
     "start_time": "2025-06-04T08:52:37.412378Z"
    }
   },
   "id": "d04ed49143a34b1d",
   "execution_count": 5
  },
  {
   "cell_type": "code",
   "outputs": [],
   "source": [
    "def analyze_logs(log_dir, category, set):\n",
    "    if set == 'training':\n",
    "        df = load_training_logs(log_dir, category)\n",
    "        print('---------- TRAINING ----------')\n",
    "    elif set == 'validation':\n",
    "        df = load_val_logs(log_dir, category)\n",
    "        print('---------- VALIDATION ----------')\n",
    "\n",
    "    else:\n",
    "        df = load_test_logs(log_dir, category)\n",
    "        print('---------- TEST ----------')\n",
    "\n",
    "    # Convert numeric columns\n",
    "    df[\"GC Content (%)\"] = df[\"GC Content (%)\"].astype(float)\n",
    "    df[\"Avg Length\"] = df[\"Avg Length\"].astype(float)\n",
    "\n",
    "    # Summary counts\n",
    "    kept = df[df[\"Status\"] == \"KEPT\"]\n",
    "    deleted = df[df[\"Status\"] != \"KEPT\"]\n",
    "\n",
    "    print(f\"\\n===== Summary for {category.upper()} =====\")\n",
    "    print(f\"Total genomes processed: {len(df)}\")\n",
    "    print(f\" - KEPT: {len(kept)}\")\n",
    "    print(f\" - DELETED: {len(deleted)}\")\n",
    "\n",
    "    # Aggregate contig stats\n",
    "    total_contigs_before = df[\"Original Contigs\"].sum()\n",
    "    total_after_filter = df[\"After Filtering\"].sum()\n",
    "\n",
    "    print(f\"\\nContig Counts:\")\n",
    "    print(f\" - Original contigs: {total_contigs_before:,}\")\n",
    "    print(f\" - After filtering: {total_after_filter:,}\")\n",
    "\n",
    "    # GC and Length stats (for KEPT)\n",
    "    mean_gc = kept[\"GC Content (%)\"].mean() if not kept.empty else 0.0\n",
    "    mean_len = kept[\"Avg Length\"].mean() if not kept.empty else 0.0\n",
    "    total_bases = (kept[\"After Filtering\"] * kept[\"Avg Length\"]).sum()\n",
    "\n",
    "    print(f\"\\nStatistics for KEPT files:\")\n",
    "    print(f\" - Mean GC %: {mean_gc:.2f}\")\n",
    "    print(f\" - Mean Avg Length: {mean_len:.1f} bp\")\n",
    "    print(f\" - Total bases retained: {int(total_bases):,}\")\n",
    "\n",
    "    # Status breakdown\n",
    "    print(f\"\\nStatus breakdown:\")\n",
    "    print(df[\"Status\"].value_counts())\n",
    "\n",
    "    return df\n"
   ],
   "metadata": {
    "collapsed": false,
    "ExecuteTime": {
     "end_time": "2025-06-04T08:52:37.417402Z",
     "start_time": "2025-06-04T08:52:37.414531Z"
    }
   },
   "id": "61821a1f480fc1c1",
   "execution_count": 6
  },
  {
   "cell_type": "code",
   "outputs": [
    {
     "name": "stdout",
     "output_type": "stream",
     "text": [
      "---------- TRAINING ----------\n",
      "\n",
      "===== Summary for ARCHAEA =====\n",
      "Total genomes processed: 3243\n",
      " - KEPT: 3239\n",
      " - DELETED: 4\n",
      "\n",
      "Contig Counts:\n",
      " - Original contigs: 391,542\n",
      " - After filtering: 374,747\n",
      "\n",
      "Statistics for KEPT files:\n",
      " - Mean GC %: 45.64\n",
      " - Mean Avg Length: 378032.4 bp\n",
      " - Total bases retained: 6,176,019,445\n",
      "\n",
      "Status breakdown:\n",
      "Status\n",
      "KEPT                        3239\n",
      "DELETED (empty or error)       4\n",
      "Name: count, dtype: int64\n"
     ]
    }
   ],
   "source": [
    "archaea_df = analyze_logs(log_dir, 'archaea', 'training') "
   ],
   "metadata": {
    "collapsed": false,
    "ExecuteTime": {
     "end_time": "2025-06-04T08:52:37.428224Z",
     "start_time": "2025-06-04T08:52:37.418149Z"
    }
   },
   "id": "b0c50f2e70ca5708",
   "execution_count": 7
  },
  {
   "cell_type": "code",
   "outputs": [
    {
     "name": "stdout",
     "output_type": "stream",
     "text": [
      "---------- TRAINING ----------\n",
      "\n",
      "===== Summary for VIRAL =====\n",
      "Total genomes processed: 129831\n",
      " - KEPT: 129677\n",
      " - DELETED: 154\n",
      "\n",
      "Contig Counts:\n",
      " - Original contigs: 704,353\n",
      " - After filtering: 692,902\n",
      "\n",
      "Statistics for KEPT files:\n",
      " - Mean GC %: 44.24\n",
      " - Mean Avg Length: 16836.4 bp\n",
      " - Total bases retained: 3,139,870,091\n",
      "\n",
      "Status breakdown:\n",
      "Status\n",
      "KEPT                        129677\n",
      "DELETED (empty or error)       154\n",
      "Name: count, dtype: int64\n"
     ]
    }
   ],
   "source": [
    "viral_df = analyze_logs(log_dir, 'viral', 'training') "
   ],
   "metadata": {
    "collapsed": false,
    "ExecuteTime": {
     "end_time": "2025-06-04T08:52:37.528771Z",
     "start_time": "2025-06-04T08:52:37.428671Z"
    }
   },
   "id": "b3b84a6e991a3780",
   "execution_count": 8
  },
  {
   "cell_type": "code",
   "outputs": [
    {
     "name": "stdout",
     "output_type": "stream",
     "text": [
      "---------- TRAINING ----------\n",
      "\n",
      "===== Summary for PROTOZOA =====\n",
      "Total genomes processed: 879\n",
      " - KEPT: 877\n",
      " - DELETED: 2\n",
      "\n",
      "Contig Counts:\n",
      " - Original contigs: 7,716,447\n",
      " - After filtering: 3,388,244\n",
      "\n",
      "Statistics for KEPT files:\n",
      " - Mean GC %: 44.58\n",
      " - Mean Avg Length: 213361.0 bp\n",
      " - Total bases retained: 51,936,515,609\n",
      "\n",
      "Status breakdown:\n",
      "Status\n",
      "KEPT                        877\n",
      "DELETED (empty or error)      2\n",
      "Name: count, dtype: int64\n"
     ]
    }
   ],
   "source": [
    "protozoa_df = analyze_logs(log_dir, 'protozoa', 'training')"
   ],
   "metadata": {
    "collapsed": false,
    "ExecuteTime": {
     "end_time": "2025-06-04T08:52:37.534768Z",
     "start_time": "2025-06-04T08:52:37.529285Z"
    }
   },
   "id": "ad62a12e812094e0",
   "execution_count": 9
  },
  {
   "cell_type": "code",
   "outputs": [
    {
     "name": "stdout",
     "output_type": "stream",
     "text": [
      "---------- TRAINING ----------\n",
      "\n",
      "===== Summary for FUNGI =====\n",
      "Total genomes processed: 6897\n",
      " - KEPT: 6896\n",
      " - DELETED: 1\n",
      "\n",
      "Contig Counts:\n",
      " - Original contigs: 22,887,089\n",
      " - After filtering: 7,332,353\n",
      "\n",
      "Statistics for KEPT files:\n",
      " - Mean GC %: 46.43\n",
      " - Mean Avg Length: 403193.2 bp\n",
      " - Total bases retained: 224,498,241,515\n",
      "\n",
      "Status breakdown:\n",
      "Status\n",
      "KEPT                        6896\n",
      "DELETED (empty or error)       1\n",
      "Name: count, dtype: int64\n"
     ]
    }
   ],
   "source": [
    "fungi_df = analyze_logs(log_dir, 'fungi', 'training')"
   ],
   "metadata": {
    "collapsed": false,
    "ExecuteTime": {
     "end_time": "2025-06-04T08:52:37.557067Z",
     "start_time": "2025-06-04T08:52:37.536846Z"
    }
   },
   "id": "7d0614497d4f9167",
   "execution_count": 10
  },
  {
   "cell_type": "code",
   "outputs": [
    {
     "name": "stdout",
     "output_type": "stream",
     "text": [
      "---------- VALIDATION ----------\n",
      "\n",
      "===== Summary for VIRAL =====\n",
      "Total genomes processed: 1730\n",
      " - KEPT: 1730\n",
      " - DELETED: 0\n",
      "\n",
      "Contig Counts:\n",
      " - Original contigs: 4,484\n",
      " - After filtering: 4,459\n",
      "\n",
      "Statistics for KEPT files:\n",
      " - Mean GC %: 45.93\n",
      " - Mean Avg Length: 33073.6 bp\n",
      " - Total bases retained: 70,106,312\n",
      "\n",
      "Status breakdown:\n",
      "Status\n",
      "KEPT    1730\n",
      "Name: count, dtype: int64\n"
     ]
    }
   ],
   "source": [
    "viral_val_df = analyze_logs(log_dir, 'viral', 'validation')"
   ],
   "metadata": {
    "collapsed": false,
    "ExecuteTime": {
     "end_time": "2025-06-04T08:52:37.573512Z",
     "start_time": "2025-06-04T08:52:37.559801Z"
    }
   },
   "id": "bbeea0921595405b",
   "execution_count": 11
  },
  {
   "cell_type": "code",
   "outputs": [
    {
     "name": "stdout",
     "output_type": "stream",
     "text": [
      "---------- VALIDATION ----------\n",
      "\n",
      "===== Summary for ARCHAEA =====\n",
      "Total genomes processed: 566\n",
      " - KEPT: 566\n",
      " - DELETED: 0\n",
      "\n",
      "Contig Counts:\n",
      " - Original contigs: 93,128\n",
      " - After filtering: 93,075\n",
      "\n",
      "Statistics for KEPT files:\n",
      " - Mean GC %: 46.23\n",
      " - Mean Avg Length: 50167.9 bp\n",
      " - Total bases retained: 769,953,467\n",
      "\n",
      "Status breakdown:\n",
      "Status\n",
      "KEPT    566\n",
      "Name: count, dtype: int64\n"
     ]
    }
   ],
   "source": [
    "archaea_val_df = analyze_logs(log_dir, 'archaea', 'validation') "
   ],
   "metadata": {
    "collapsed": false,
    "ExecuteTime": {
     "end_time": "2025-06-04T08:52:37.589164Z",
     "start_time": "2025-06-04T08:52:37.577982Z"
    }
   },
   "id": "5f72cff6cdd35340",
   "execution_count": 12
  },
  {
   "cell_type": "code",
   "outputs": [
    {
     "name": "stdout",
     "output_type": "stream",
     "text": [
      "---------- VALIDATION ----------\n",
      "\n",
      "===== Summary for PROTOZOA =====\n",
      "Total genomes processed: 14\n",
      " - KEPT: 14\n",
      " - DELETED: 0\n",
      "\n",
      "Contig Counts:\n",
      " - Original contigs: 385,323\n",
      " - After filtering: 196,395\n",
      "\n",
      "Statistics for KEPT files:\n",
      " - Mean GC %: 43.02\n",
      " - Mean Avg Length: 308440.0 bp\n",
      " - Total bases retained: 721,011,537\n",
      "\n",
      "Status breakdown:\n",
      "Status\n",
      "KEPT    14\n",
      "Name: count, dtype: int64\n"
     ]
    }
   ],
   "source": [
    "protozoa_val_df = analyze_logs(log_dir, 'protozoa', 'validation')"
   ],
   "metadata": {
    "collapsed": false,
    "ExecuteTime": {
     "end_time": "2025-06-04T08:52:37.605963Z",
     "start_time": "2025-06-04T08:52:37.590093Z"
    }
   },
   "id": "84e7595e85b0adb6",
   "execution_count": 13
  },
  {
   "cell_type": "code",
   "outputs": [
    {
     "name": "stdout",
     "output_type": "stream",
     "text": [
      "---------- VALIDATION ----------\n",
      "\n",
      "===== Summary for FUNGI =====\n",
      "Total genomes processed: 299\n",
      " - KEPT: 299\n",
      " - DELETED: 0\n",
      "\n",
      "Contig Counts:\n",
      " - Original contigs: 365,026\n",
      " - After filtering: 157,454\n",
      "\n",
      "Statistics for KEPT files:\n",
      " - Mean GC %: 47.98\n",
      " - Mean Avg Length: 449333.7 bp\n",
      " - Total bases retained: 10,171,948,258\n",
      "\n",
      "Status breakdown:\n",
      "Status\n",
      "KEPT    299\n",
      "Name: count, dtype: int64\n"
     ]
    }
   ],
   "source": [
    "fungi_val_df = analyze_logs(log_dir, 'fungi', 'validation')"
   ],
   "metadata": {
    "collapsed": false,
    "ExecuteTime": {
     "end_time": "2025-06-04T08:52:37.624145Z",
     "start_time": "2025-06-04T08:52:37.607664Z"
    }
   },
   "id": "9453689ac6c4201e",
   "execution_count": 14
  },
  {
   "cell_type": "code",
   "outputs": [
    {
     "name": "stdout",
     "output_type": "stream",
     "text": [
      "---------- TEST ----------\n",
      "\n",
      "===== Summary for VIRAL =====\n",
      "Total genomes processed: 22047\n",
      " - KEPT: 21884\n",
      " - DELETED: 163\n",
      "\n",
      "Contig Counts:\n",
      " - Original contigs: 96,619\n",
      " - After filtering: 96,376\n",
      "\n",
      "Statistics for KEPT files:\n",
      " - Mean GC %: 41.79\n",
      " - Mean Avg Length: 60469.0 bp\n",
      " - Total bases retained: 1,448,101,969\n",
      "\n",
      "Status breakdown:\n",
      "Status\n",
      "KEPT                        21884\n",
      "DELETED (empty or error)      163\n",
      "Name: count, dtype: int64\n"
     ]
    }
   ],
   "source": [
    "viral_test_df = analyze_logs(log_dir, 'viral', 'test')"
   ],
   "metadata": {
    "collapsed": false,
    "ExecuteTime": {
     "end_time": "2025-06-04T08:52:37.646965Z",
     "start_time": "2025-06-04T08:52:37.625524Z"
    }
   },
   "id": "8372f6adb0759f59",
   "execution_count": 15
  },
  {
   "cell_type": "code",
   "outputs": [
    {
     "name": "stdout",
     "output_type": "stream",
     "text": [
      "---------- TEST ----------\n",
      "\n",
      "===== Summary for ARCHAEA =====\n",
      "Total genomes processed: 2074\n",
      " - KEPT: 2073\n",
      " - DELETED: 1\n",
      "\n",
      "Contig Counts:\n",
      " - Original contigs: 368,161\n",
      " - After filtering: 367,499\n",
      "\n",
      "Statistics for KEPT files:\n",
      " - Mean GC %: 47.53\n",
      " - Mean Avg Length: 122947.9 bp\n",
      " - Total bases retained: 3,106,062,737\n",
      "\n",
      "Status breakdown:\n",
      "Status\n",
      "KEPT                        2073\n",
      "DELETED (empty or error)       1\n",
      "Name: count, dtype: int64\n"
     ]
    }
   ],
   "source": [
    "archaea_test_df = analyze_logs(log_dir, 'archaea', 'test')"
   ],
   "metadata": {
    "collapsed": false,
    "ExecuteTime": {
     "end_time": "2025-06-04T08:52:37.654014Z",
     "start_time": "2025-06-04T08:52:37.647661Z"
    }
   },
   "id": "3d1f041d0e05234",
   "execution_count": 16
  },
  {
   "cell_type": "code",
   "outputs": [
    {
     "name": "stdout",
     "output_type": "stream",
     "text": [
      "---------- TEST ----------\n",
      "\n",
      "===== Summary for PROTOZOA =====\n",
      "Total genomes processed: 385\n",
      " - KEPT: 385\n",
      " - DELETED: 0\n",
      "\n",
      "Contig Counts:\n",
      " - Original contigs: 986,885\n",
      " - After filtering: 733,045\n",
      "\n",
      "Statistics for KEPT files:\n",
      " - Mean GC %: 43.52\n",
      " - Mean Avg Length: 106907.4 bp\n",
      " - Total bases retained: 6,984,905,693\n",
      "\n",
      "Status breakdown:\n",
      "Status\n",
      "KEPT    385\n",
      "Name: count, dtype: int64\n"
     ]
    }
   ],
   "source": [
    "protozoa_test_df = analyze_logs(log_dir, 'protozoa', 'test')"
   ],
   "metadata": {
    "collapsed": false,
    "ExecuteTime": {
     "end_time": "2025-06-04T08:52:37.660663Z",
     "start_time": "2025-06-04T08:52:37.654990Z"
    }
   },
   "id": "8f0b87c2f4ed7082",
   "execution_count": 17
  },
  {
   "cell_type": "code",
   "outputs": [
    {
     "name": "stdout",
     "output_type": "stream",
     "text": [
      "---------- TEST ----------\n",
      "\n",
      "===== Summary for FUNGI =====\n",
      "Total genomes processed: 2564\n",
      " - KEPT: 2564\n",
      " - DELETED: 0\n",
      "\n",
      "Contig Counts:\n",
      " - Original contigs: 4,386,266\n",
      " - After filtering: 1,860,771\n",
      "\n",
      "Statistics for KEPT files:\n",
      " - Mean GC %: 46.76\n",
      " - Mean Avg Length: 405658.8 bp\n",
      " - Total bases retained: 76,102,766,806\n",
      "\n",
      "Status breakdown:\n",
      "Status\n",
      "KEPT    2564\n",
      "Name: count, dtype: int64\n"
     ]
    }
   ],
   "source": [
    "fungi_test_df = analyze_logs(log_dir, 'fungi', 'test')"
   ],
   "metadata": {
    "collapsed": false,
    "ExecuteTime": {
     "end_time": "2025-06-04T08:52:37.668578Z",
     "start_time": "2025-06-04T08:52:37.661747Z"
    }
   },
   "id": "c3f90752259e7ff2",
   "execution_count": 18
  },
  {
   "cell_type": "code",
   "outputs": [
    {
     "name": "stdout",
     "output_type": "stream",
     "text": [
      "---------- TRAINING ----------\n",
      "\n",
      "===== Summary for PLASMID =====\n",
      "Total genomes processed: 37118\n",
      " - KEPT: 32570\n",
      " - DELETED: 4548\n",
      "\n",
      "Contig Counts:\n",
      " - Original contigs: 37,118\n",
      " - After filtering: 32,570\n",
      "\n",
      "Statistics for KEPT files:\n",
      " - Mean GC %: 47.61\n",
      " - Mean Avg Length: 67121.3 bp\n",
      " - Total bases retained: 2,186,140,826\n",
      "\n",
      "Status breakdown:\n",
      "Status\n",
      "KEPT                        32570\n",
      "DELETED (empty or error)     4548\n",
      "Name: count, dtype: int64\n"
     ]
    }
   ],
   "source": [
    "plasmid_df = analyze_logs(log_dir, 'plasmid', 'training')"
   ],
   "metadata": {
    "collapsed": false,
    "ExecuteTime": {
     "end_time": "2025-06-04T08:52:37.723571Z",
     "start_time": "2025-06-04T08:52:37.670564Z"
    }
   },
   "id": "864be494d3d78306",
   "execution_count": 19
  },
  {
   "cell_type": "code",
   "outputs": [
    {
     "name": "stdout",
     "output_type": "stream",
     "text": [
      "---------- VALIDATION ----------\n",
      "\n",
      "===== Summary for PLASMID =====\n",
      "Total genomes processed: 2183\n",
      " - KEPT: 1910\n",
      " - DELETED: 273\n",
      "\n",
      "Contig Counts:\n",
      " - Original contigs: 2,183\n",
      " - After filtering: 1,910\n",
      "\n",
      "Statistics for KEPT files:\n",
      " - Mean GC %: 47.75\n",
      " - Mean Avg Length: 63844.2 bp\n",
      " - Total bases retained: 121,942,481\n",
      "\n",
      "Status breakdown:\n",
      "Status\n",
      "KEPT                        1910\n",
      "DELETED (empty or error)     273\n",
      "Name: count, dtype: int64\n"
     ]
    }
   ],
   "source": [
    "plasmid_val_df = analyze_logs(log_dir, 'plasmid', 'validation')"
   ],
   "metadata": {
    "collapsed": false,
    "ExecuteTime": {
     "end_time": "2025-06-04T08:52:37.730397Z",
     "start_time": "2025-06-04T08:52:37.724632Z"
    }
   },
   "id": "dde611b30e9120ac",
   "execution_count": 20
  },
  {
   "cell_type": "code",
   "outputs": [
    {
     "name": "stdout",
     "output_type": "stream",
     "text": [
      "---------- TEST ----------\n",
      "\n",
      "===== Summary for PLASMID =====\n",
      "Total genomes processed: 4368\n",
      " - KEPT: 3821\n",
      " - DELETED: 547\n",
      "\n",
      "Contig Counts:\n",
      " - Original contigs: 4,368\n",
      " - After filtering: 3,821\n",
      "\n",
      "Statistics for KEPT files:\n",
      " - Mean GC %: 47.40\n",
      " - Mean Avg Length: 66600.7 bp\n",
      " - Total bases retained: 254,481,447\n",
      "\n",
      "Status breakdown:\n",
      "Status\n",
      "KEPT                        3821\n",
      "DELETED (empty or error)     547\n",
      "Name: count, dtype: int64\n"
     ]
    }
   ],
   "source": [
    "plasmid_test_df = analyze_logs(log_dir, 'plasmid', 'test')"
   ],
   "metadata": {
    "collapsed": false,
    "ExecuteTime": {
     "end_time": "2025-06-04T08:52:37.737630Z",
     "start_time": "2025-06-04T08:52:37.731272Z"
    }
   },
   "id": "9af815e15f92f5ec",
   "execution_count": 21
  },
  {
   "cell_type": "code",
   "outputs": [
    {
     "name": "stdout",
     "output_type": "stream",
     "text": [
      "---------- TRAINING ----------\n",
      "\n",
      "===== Summary for BACTERIA =====\n",
      "Total genomes processed: 180767\n",
      " - KEPT: 180440\n",
      " - DELETED: 327\n",
      "\n",
      "Contig Counts:\n",
      " - Original contigs: 23,504,821\n",
      " - After filtering: 17,647,848\n",
      "\n",
      "Statistics for KEPT files:\n",
      " - Mean GC %: 48.52\n",
      " - Mean Avg Length: 608979.7 bp\n",
      " - Total bases retained: 673,594,572,974\n",
      "\n",
      "Status breakdown:\n",
      "Status\n",
      "KEPT                        180440\n",
      "DELETED (empty or error)       327\n",
      "Name: count, dtype: int64\n"
     ]
    }
   ],
   "source": [
    "bacteria_df = analyze_logs(log_dir, 'bacteria', 'training')"
   ],
   "metadata": {
    "collapsed": false,
    "ExecuteTime": {
     "end_time": "2025-06-04T08:52:37.886881Z",
     "start_time": "2025-06-04T08:52:37.738082Z"
    }
   },
   "id": "431599a3822544d6",
   "execution_count": 22
  },
  {
   "cell_type": "code",
   "outputs": [
    {
     "name": "stdout",
     "output_type": "stream",
     "text": [
      "---------- VALIDATION ----------\n",
      "\n",
      "===== Summary for BACTERIA =====\n",
      "Total genomes processed: 12096\n",
      " - KEPT: 12091\n",
      " - DELETED: 5\n",
      "\n",
      "Contig Counts:\n",
      " - Original contigs: 2,083,961\n",
      " - After filtering: 1,901,565\n",
      "\n",
      "Statistics for KEPT files:\n",
      " - Mean GC %: 48.86\n",
      " - Mean Avg Length: 549719.9 bp\n",
      " - Total bases retained: 40,730,377,724\n",
      "\n",
      "Status breakdown:\n",
      "Status\n",
      "KEPT                        12091\n",
      "DELETED (empty or error)        5\n",
      "Name: count, dtype: int64\n"
     ]
    }
   ],
   "source": [
    "bacteria_val_df = analyze_logs(log_dir, 'bacteria', 'validation')"
   ],
   "metadata": {
    "collapsed": false,
    "ExecuteTime": {
     "end_time": "2025-06-04T08:52:37.901590Z",
     "start_time": "2025-06-04T08:52:37.887750Z"
    }
   },
   "id": "f310bc943b8b593d",
   "execution_count": 23
  },
  {
   "cell_type": "code",
   "outputs": [
    {
     "name": "stdout",
     "output_type": "stream",
     "text": [
      "---------- TEST ----------\n",
      "\n",
      "===== Summary for BACTERIA =====\n",
      "Total genomes processed: 74767\n",
      " - KEPT: 74754\n",
      " - DELETED: 13\n",
      "\n",
      "Contig Counts:\n",
      " - Original contigs: 14,444,802\n",
      " - After filtering: 13,015,155\n",
      "\n",
      "Statistics for KEPT files:\n",
      " - Mean GC %: 48.77\n",
      " - Mean Avg Length: 336571.9 bp\n",
      " - Total bases retained: 216,566,925,758\n",
      "\n",
      "Status breakdown:\n",
      "Status\n",
      "KEPT                        74754\n",
      "DELETED (empty or error)       13\n",
      "Name: count, dtype: int64\n"
     ]
    }
   ],
   "source": [
    "bacteria_test_df = analyze_logs(log_dir, 'bacteria', 'test')"
   ],
   "metadata": {
    "collapsed": false,
    "ExecuteTime": {
     "end_time": "2025-06-04T08:52:37.958743Z",
     "start_time": "2025-06-04T08:52:37.902334Z"
    }
   },
   "id": "bdd31d22d2c6915e",
   "execution_count": 24
  }
 ],
 "metadata": {
  "kernelspec": {
   "display_name": "Python 3",
   "language": "python",
   "name": "python3"
  },
  "language_info": {
   "codemirror_mode": {
    "name": "ipython",
    "version": 2
   },
   "file_extension": ".py",
   "mimetype": "text/x-python",
   "name": "python",
   "nbconvert_exporter": "python",
   "pygments_lexer": "ipython2",
   "version": "2.7.6"
  }
 },
 "nbformat": 4,
 "nbformat_minor": 5
}
