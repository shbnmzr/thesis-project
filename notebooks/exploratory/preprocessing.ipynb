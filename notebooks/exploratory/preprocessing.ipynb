{
 "cells": [
  {
   "cell_type": "code",
   "execution_count": 12,
   "id": "initial_id",
   "metadata": {
    "collapsed": true,
    "ExecuteTime": {
     "end_time": "2025-05-30T09:03:07.485200Z",
     "start_time": "2025-05-30T09:03:07.473453Z"
    }
   },
   "outputs": [],
   "source": [
    "import pandas as pd\n",
    "import numpy as np\n",
    "import matplotlib.pyplot as plt\n",
    "from pathlib import Path"
   ]
  },
  {
   "cell_type": "code",
   "outputs": [],
   "source": [
    "log_dir = Path('../../results/logs/preprocessing-logs')"
   ],
   "metadata": {
    "collapsed": false,
    "ExecuteTime": {
     "end_time": "2025-05-30T09:03:07.485836Z",
     "start_time": "2025-05-30T09:03:07.481529Z"
    }
   },
   "id": "2b72e576af88767",
   "execution_count": 13
  },
  {
   "cell_type": "code",
   "outputs": [],
   "source": [
    "def load_logs(log_dir, category):\n",
    "    csv_files = list(log_dir.glob(f\"./{category}_preprocessing_report.csv\"))\n",
    "    all_dfs = [pd.read_csv(csv_file) for csv_file in csv_files]\n",
    "    df = pd.concat(all_dfs, ignore_index=True)\n",
    "    return df"
   ],
   "metadata": {
    "collapsed": false,
    "ExecuteTime": {
     "end_time": "2025-05-30T09:03:07.490373Z",
     "start_time": "2025-05-30T09:03:07.483831Z"
    }
   },
   "id": "f86bae6d0dbc6cf8",
   "execution_count": 14
  },
  {
   "cell_type": "code",
   "outputs": [],
   "source": [
    "def analyze_logs(log_dir, category):\n",
    "    df = load_logs(log_dir, category)\n",
    "\n",
    "    # Convert numeric columns\n",
    "    df[\"GC Content (%)\"] = df[\"GC Content (%)\"].astype(float)\n",
    "    df[\"Avg Length\"] = df[\"Avg Length\"].astype(float)\n",
    "\n",
    "    # Summary counts\n",
    "    kept = df[df[\"Status\"] == \"KEPT\"]\n",
    "    deleted = df[df[\"Status\"] != \"KEPT\"]\n",
    "\n",
    "    print(f\"\\n===== Summary for {category.upper()} =====\")\n",
    "    print(f\"Total genomes processed: {len(df)}\")\n",
    "    print(f\" - KEPT: {len(kept)}\")\n",
    "    print(f\" - DELETED: {len(deleted)}\")\n",
    "\n",
    "    # Aggregate contig stats\n",
    "    total_contigs_before = df[\"Original Contigs\"].sum()\n",
    "    total_after_filter = df[\"After Filtering\"].sum()\n",
    "\n",
    "    print(f\"\\nContig Counts:\")\n",
    "    print(f\" - Original contigs: {total_contigs_before:,}\")\n",
    "    print(f\" - After filtering: {total_after_filter:,}\")\n",
    "\n",
    "    # GC and Length stats (for KEPT)\n",
    "    mean_gc = kept[\"GC Content (%)\"].mean() if not kept.empty else 0.0\n",
    "    mean_len = kept[\"Avg Length\"].mean() if not kept.empty else 0.0\n",
    "    total_bases = (kept[\"After Filtering\"] * kept[\"Avg Length\"]).sum()\n",
    "\n",
    "    print(f\"\\nStatistics for KEPT files:\")\n",
    "    print(f\" - Mean GC %: {mean_gc:.2f}\")\n",
    "    print(f\" - Mean Avg Length: {mean_len:.1f} bp\")\n",
    "    print(f\" - Total bases retained: {int(total_bases):,}\")\n",
    "\n",
    "    # Status breakdown\n",
    "    print(f\"\\nStatus breakdown:\")\n",
    "    print(df[\"Status\"].value_counts())\n",
    "\n",
    "    return df\n"
   ],
   "metadata": {
    "collapsed": false,
    "ExecuteTime": {
     "end_time": "2025-05-30T09:03:07.495685Z",
     "start_time": "2025-05-30T09:03:07.494122Z"
    }
   },
   "id": "61821a1f480fc1c1",
   "execution_count": 15
  },
  {
   "cell_type": "code",
   "outputs": [
    {
     "name": "stdout",
     "output_type": "stream",
     "text": [
      "\n",
      "===== Summary for ARCHAEA =====\n",
      "Total genomes processed: 3243\n",
      " - KEPT: 3239\n",
      " - DELETED: 4\n",
      "\n",
      "Contig Counts:\n",
      " - Original contigs: 391,542\n",
      " - After filtering: 374,747\n",
      "\n",
      "Statistics for KEPT files:\n",
      " - Mean GC %: 45.64\n",
      " - Mean Avg Length: 378032.4 bp\n",
      " - Total bases retained: 6,176,019,445\n",
      "\n",
      "Status breakdown:\n",
      "Status\n",
      "KEPT                        3239\n",
      "DELETED (empty or error)       4\n",
      "Name: count, dtype: int64\n"
     ]
    }
   ],
   "source": [
    "archaea_df = analyze_logs(log_dir, 'archaea') "
   ],
   "metadata": {
    "collapsed": false,
    "ExecuteTime": {
     "end_time": "2025-05-30T09:03:07.527702Z",
     "start_time": "2025-05-30T09:03:07.497404Z"
    }
   },
   "id": "b0c50f2e70ca5708",
   "execution_count": 16
  },
  {
   "cell_type": "code",
   "outputs": [
    {
     "name": "stdout",
     "output_type": "stream",
     "text": [
      "\n",
      "===== Summary for VIRAL =====\n",
      "Total genomes processed: 129831\n",
      " - KEPT: 129677\n",
      " - DELETED: 154\n",
      "\n",
      "Contig Counts:\n",
      " - Original contigs: 704,353\n",
      " - After filtering: 692,902\n",
      "\n",
      "Statistics for KEPT files:\n",
      " - Mean GC %: 44.24\n",
      " - Mean Avg Length: 16836.4 bp\n",
      " - Total bases retained: 3,139,870,091\n",
      "\n",
      "Status breakdown:\n",
      "Status\n",
      "KEPT                        129677\n",
      "DELETED (empty or error)       154\n",
      "Name: count, dtype: int64\n"
     ]
    }
   ],
   "source": [
    "viral_df = analyze_logs(log_dir, 'viral') "
   ],
   "metadata": {
    "collapsed": false,
    "ExecuteTime": {
     "end_time": "2025-05-30T09:03:07.628918Z",
     "start_time": "2025-05-30T09:03:07.527185Z"
    }
   },
   "id": "b3b84a6e991a3780",
   "execution_count": 17
  },
  {
   "cell_type": "code",
   "outputs": [
    {
     "name": "stdout",
     "output_type": "stream",
     "text": [
      "\n",
      "===== Summary for PROTOZOA =====\n",
      "Total genomes processed: 879\n",
      " - KEPT: 877\n",
      " - DELETED: 2\n",
      "\n",
      "Contig Counts:\n",
      " - Original contigs: 7,716,447\n",
      " - After filtering: 3,388,244\n",
      "\n",
      "Statistics for KEPT files:\n",
      " - Mean GC %: 44.58\n",
      " - Mean Avg Length: 213361.0 bp\n",
      " - Total bases retained: 51,936,515,609\n",
      "\n",
      "Status breakdown:\n",
      "Status\n",
      "KEPT                        877\n",
      "DELETED (empty or error)      2\n",
      "Name: count, dtype: int64\n"
     ]
    }
   ],
   "source": [
    "protozoa_df = analyze_logs(log_dir, 'protozoa')"
   ],
   "metadata": {
    "collapsed": false,
    "ExecuteTime": {
     "end_time": "2025-05-30T09:03:07.635699Z",
     "start_time": "2025-05-30T09:03:07.630595Z"
    }
   },
   "id": "ad62a12e812094e0",
   "execution_count": 18
  }
 ],
 "metadata": {
  "kernelspec": {
   "display_name": "Python 3",
   "language": "python",
   "name": "python3"
  },
  "language_info": {
   "codemirror_mode": {
    "name": "ipython",
    "version": 2
   },
   "file_extension": ".py",
   "mimetype": "text/x-python",
   "name": "python",
   "nbconvert_exporter": "python",
   "pygments_lexer": "ipython2",
   "version": "2.7.6"
  }
 },
 "nbformat": 4,
 "nbformat_minor": 5
}
