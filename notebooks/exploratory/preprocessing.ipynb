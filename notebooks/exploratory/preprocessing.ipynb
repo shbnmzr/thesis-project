{
 "cells": [
  {
   "cell_type": "code",
   "execution_count": 31,
   "id": "initial_id",
   "metadata": {
    "collapsed": true,
    "ExecuteTime": {
     "end_time": "2025-05-27T08:33:57.871868Z",
     "start_time": "2025-05-27T08:33:57.864478Z"
    }
   },
   "outputs": [],
   "source": [
    "import pandas as pd\n",
    "import numpy as np\n",
    "import matplotlib.pyplot as plt\n",
    "from pathlib import Path"
   ]
  },
  {
   "cell_type": "code",
   "outputs": [],
   "source": [
    "log_dir = Path('../../results/logs/preprocessing-logs')"
   ],
   "metadata": {
    "collapsed": false,
    "ExecuteTime": {
     "end_time": "2025-05-27T08:33:57.872326Z",
     "start_time": "2025-05-27T08:33:57.868023Z"
    }
   },
   "id": "2b72e576af88767",
   "execution_count": 32
  },
  {
   "cell_type": "code",
   "outputs": [],
   "source": [
    "def load_logs(log_dir, category):\n",
    "    csv_files = list(log_dir.glob(f\"./{category}/{category}_batch_*_report.csv\"))\n",
    "    all_dfs = [pd.read_csv(csv_file) for csv_file in csv_files]\n",
    "    df = pd.concat(all_dfs, ignore_index=True)\n",
    "    return df"
   ],
   "metadata": {
    "collapsed": false,
    "ExecuteTime": {
     "end_time": "2025-05-27T08:33:57.876702Z",
     "start_time": "2025-05-27T08:33:57.871861Z"
    }
   },
   "id": "f86bae6d0dbc6cf8",
   "execution_count": 33
  },
  {
   "cell_type": "code",
   "outputs": [],
   "source": [
    "def analyze_logs(log_dir, category):\n",
    "    df = load_logs(log_dir, category)\n",
    "    \n",
    "    # Convert numerical columns to float if necessary\n",
    "    df[\"GC %\"] = df[\"GC %\"].astype(float)\n",
    "    df[\"Avg Length\"] = df[\"Avg Length\"].astype(float)\n",
    "\n",
    "    # Summary counts\n",
    "    kept = df[df[\"Status\"] == \"KEPT\"]\n",
    "    deleted = df[df[\"Status\"] != \"KEPT\"]\n",
    "\n",
    "    print(f\"\\n===== Summary for {category.upper()} =====\")\n",
    "    print(f\"Total genomes processed: {len(df)}\")\n",
    "    print(f\" - KEPT: {len(kept)}\")\n",
    "    print(f\" - DELETED/FAILED: {len(deleted)}\")\n",
    "\n",
    "    # Aggregate contig stats\n",
    "    total_contigs_before = df[\"Original Contigs\"].sum()\n",
    "    total_after_filter = df[\"After Filtering\"].sum()\n",
    "    total_after_cdhit = df[\"After CD-HIT\"].sum()\n",
    "    \n",
    "    print(f\"\\nContig Counts:\")\n",
    "    print(f\" - Original contigs: {total_contigs_before:,}\")\n",
    "    print(f\" - After filtering: {total_after_filter:,}\")\n",
    "    print(f\" - After CD-HIT: {total_after_cdhit:,}\")\n",
    "\n",
    "    # GC and Length stats (for KEPT)\n",
    "    mean_gc = kept[\"GC %\"].mean()\n",
    "    mean_len = kept[\"Avg Length\"].mean()\n",
    "    total_bases = (kept[\"After CD-HIT\"] * kept[\"Avg Length\"]).sum()\n",
    "\n",
    "    print(f\"\\nStatistics for KEPT files:\")\n",
    "    print(f\" - Mean GC %: {mean_gc:.2f}\")\n",
    "    print(f\" - Mean Avg Length: {mean_len:.1f} bp\")\n",
    "    print(f\" - Total bases retained: {int(total_bases):,}\")\n",
    "\n",
    "    # Status breakdown\n",
    "    print(f\"\\nStatus breakdown:\")\n",
    "    print(df[\"Status\"].value_counts())\n",
    "\n",
    "    return df"
   ],
   "metadata": {
    "collapsed": false,
    "ExecuteTime": {
     "end_time": "2025-05-27T08:33:57.880687Z",
     "start_time": "2025-05-27T08:33:57.878175Z"
    }
   },
   "id": "61821a1f480fc1c1",
   "execution_count": 34
  },
  {
   "cell_type": "code",
   "outputs": [],
   "source": [
    "archaea_df = analyze_logs(log_dir, 'archaea') "
   ],
   "metadata": {
    "collapsed": false,
    "ExecuteTime": {
     "end_time": "2025-05-27T08:33:57.882895Z",
     "start_time": "2025-05-27T08:33:57.881010Z"
    }
   },
   "id": "b0c50f2e70ca5708",
   "execution_count": 35
  },
  {
   "cell_type": "code",
   "outputs": [
    {
     "name": "stdout",
     "output_type": "stream",
     "text": [
      "\n",
      "===== Summary for VIRAL =====\n",
      "Total genomes processed: 151090\n",
      " - KEPT: 0\n",
      " - DELETED/FAILED: 151090\n",
      "\n",
      "Contig Counts:\n",
      " - Original contigs: 786,043\n",
      " - After filtering: 773,459\n",
      " - After Clustering: 0\n",
      "\n",
      "Statistics for KEPT files:\n",
      " - Mean GC %: nan\n",
      " - Mean Avg Length: nan bp\n",
      " - Total bases retained: 0\n",
      "\n",
      "Status breakdown:\n",
      "Status\n",
      "FAILED (MMseqs2)                   150326\n",
      "DELETED (empty after filtering)       764\n",
      "Name: count, dtype: int64\n"
     ]
    }
   ],
   "source": [
    "viral_df = analyze_logs(log_dir, 'viral')"
   ],
   "metadata": {
    "collapsed": false,
    "ExecuteTime": {
     "end_time": "2025-05-27T08:33:58.217532Z",
     "start_time": "2025-05-27T08:33:57.884262Z"
    }
   },
   "id": "b3b84a6e991a3780",
   "execution_count": 36
  }
 ],
 "metadata": {
  "kernelspec": {
   "display_name": "Python 3",
   "language": "python",
   "name": "python3"
  },
  "language_info": {
   "codemirror_mode": {
    "name": "ipython",
    "version": 2
   },
   "file_extension": ".py",
   "mimetype": "text/x-python",
   "name": "python",
   "nbconvert_exporter": "python",
   "pygments_lexer": "ipython2",
   "version": "2.7.6"
  }
 },
 "nbformat": 4,
 "nbformat_minor": 5
}
