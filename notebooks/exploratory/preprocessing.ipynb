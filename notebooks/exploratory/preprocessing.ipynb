{
 "cells": [
  {
   "cell_type": "code",
   "execution_count": 50,
   "id": "initial_id",
   "metadata": {
    "collapsed": true,
    "ExecuteTime": {
     "end_time": "2025-06-16T11:44:56.863580Z",
     "start_time": "2025-06-16T11:44:56.853616Z"
    }
   },
   "outputs": [],
   "source": [
    "import pandas as pd\n",
    "import numpy as np\n",
    "import matplotlib.pyplot as plt\n",
    "from pathlib import Path"
   ]
  },
  {
   "cell_type": "code",
   "outputs": [],
   "source": [
    "log_dir = Path('../../results/logs/preprocessing-logs')"
   ],
   "metadata": {
    "collapsed": false,
    "ExecuteTime": {
     "end_time": "2025-06-16T11:44:56.869928Z",
     "start_time": "2025-06-16T11:44:56.868097Z"
    }
   },
   "id": "2b72e576af88767",
   "execution_count": 51
  },
  {
   "cell_type": "code",
   "outputs": [],
   "source": [
    "def load_logs(log_dir, split, category):\n",
    "    print(f'----------{split.upper()}----------')\n",
    "    csv_files = list(log_dir.glob(f\"./{split}/{category}_preprocessing_report.csv\"))\n",
    "    all_dfs = [pd.read_csv(csv_file) for csv_file in csv_files]\n",
    "    df = pd.concat(all_dfs, ignore_index=True)\n",
    "    return df"
   ],
   "metadata": {
    "collapsed": false,
    "ExecuteTime": {
     "end_time": "2025-06-16T11:44:56.873502Z",
     "start_time": "2025-06-16T11:44:56.870636Z"
    }
   },
   "id": "f86bae6d0dbc6cf8",
   "execution_count": 52
  },
  {
   "cell_type": "code",
   "outputs": [],
   "source": [
    "def analyze_logs(log_dir, category, split):\n",
    "    df = load_logs(log_dir, split, category)\n",
    "    # Convert numeric columns\n",
    "    df[\"GC Content (%)\"] = df[\"GC Content (%)\"].astype(float)\n",
    "    df[\"Avg Length\"] = df[\"Avg Length\"].astype(float)\n",
    "\n",
    "    # Summary counts\n",
    "    kept = df[df[\"Status\"] == \"KEPT\"]\n",
    "    deleted = df[df[\"Status\"] != \"KEPT\"]\n",
    "\n",
    "    print(f\"\\n===== Summary for {category.upper()} =====\")\n",
    "    print(f\"Total genomes processed: {len(df)}\")\n",
    "    print(f\" - KEPT: {len(kept)}\")\n",
    "    print(f\" - DELETED: {len(deleted)}\")\n",
    "\n",
    "    # Aggregate contig stats\n",
    "    total_contigs_before = df[\"Original Contigs\"].sum()\n",
    "    total_after_filter = df[\"After Filtering\"].sum()\n",
    "\n",
    "    print(f\"\\nContig Counts:\")\n",
    "    print(f\" - Original contigs: {total_contigs_before:,}\")\n",
    "    print(f\" - After filtering: {total_after_filter:,}\")\n",
    "\n",
    "    # GC and Length stats (for KEPT)\n",
    "    mean_gc = kept[\"GC Content (%)\"].mean() if not kept.empty else 0.0\n",
    "    mean_len = kept[\"Avg Length\"].mean() if not kept.empty else 0.0\n",
    "    total_bases = (kept[\"After Filtering\"] * kept[\"Avg Length\"]).sum()\n",
    "\n",
    "    print(f\"\\nStatistics for KEPT files:\")\n",
    "    print(f\" - Mean GC %: {mean_gc:.2f}\")\n",
    "    print(f\" - Mean Avg Length: {mean_len:.1f} bp\")\n",
    "    print(f\" - Total Bases Retained: {int(total_bases):,}\")\n",
    "\n",
    "    # Status breakdown\n",
    "    print(f\"\\nStatus breakdown:\")\n",
    "    print(df[\"Status\"].value_counts())\n",
    "\n",
    "    return df\n"
   ],
   "metadata": {
    "collapsed": false,
    "ExecuteTime": {
     "end_time": "2025-06-16T11:44:56.881225Z",
     "start_time": "2025-06-16T11:44:56.874656Z"
    }
   },
   "id": "61821a1f480fc1c1",
   "execution_count": 53
  },
  {
   "cell_type": "code",
   "outputs": [
    {
     "name": "stdout",
     "output_type": "stream",
     "text": [
      "----------TRAIN----------\n",
      "\n",
      "===== Summary for ARCHAEA =====\n",
      "Total genomes processed: 3243\n",
      " - KEPT: 3238\n",
      " - DELETED: 5\n",
      "\n",
      "Contig Counts:\n",
      " - Original contigs: 391,542\n",
      " - After filtering: 359,833\n",
      "\n",
      "Statistics for KEPT files:\n",
      " - Mean GC %: 45.69\n",
      " - Mean Avg Length: 377777.2 bp\n",
      " - Total Bases Retained: 6,072,132,376\n",
      "\n",
      "Status breakdown:\n",
      "Status\n",
      "KEPT                        3238\n",
      "DELETED (empty or error)       5\n",
      "Name: count, dtype: int64\n"
     ]
    }
   ],
   "source": [
    "archaea_df = analyze_logs(log_dir, 'archaea', 'train') "
   ],
   "metadata": {
    "collapsed": false,
    "ExecuteTime": {
     "end_time": "2025-06-16T11:44:56.915470Z",
     "start_time": "2025-06-16T11:44:56.882522Z"
    }
   },
   "id": "b0c50f2e70ca5708",
   "execution_count": 54
  },
  {
   "cell_type": "code",
   "outputs": [
    {
     "name": "stdout",
     "output_type": "stream",
     "text": [
      "----------TRAIN----------\n",
      "\n",
      "===== Summary for VIRAL =====\n",
      "Total genomes processed: 128160\n",
      " - KEPT: 127974\n",
      " - DELETED: 186\n",
      "\n",
      "Contig Counts:\n",
      " - Original contigs: 702,682\n",
      " - After filtering: 691,051\n",
      "\n",
      "Statistics for KEPT files:\n",
      " - Mean GC %: 44.18\n",
      " - Mean Avg Length: 16422.3 bp\n",
      " - Total Bases Retained: 3,057,903,987\n",
      "\n",
      "Status breakdown:\n",
      "Status\n",
      "KEPT                        127974\n",
      "DELETED (empty or error)       186\n",
      "Name: count, dtype: int64\n"
     ]
    }
   ],
   "source": [
    "viral_df = analyze_logs(log_dir, 'viral', 'train') "
   ],
   "metadata": {
    "collapsed": false,
    "ExecuteTime": {
     "end_time": "2025-06-16T11:44:57.029967Z",
     "start_time": "2025-06-16T11:44:56.916745Z"
    }
   },
   "id": "b3b84a6e991a3780",
   "execution_count": 55
  },
  {
   "cell_type": "code",
   "outputs": [
    {
     "name": "stdout",
     "output_type": "stream",
     "text": [
      "----------TRAIN----------\n",
      "\n",
      "===== Summary for PROTOZOA =====\n",
      "Total genomes processed: 879\n",
      " - KEPT: 873\n",
      " - DELETED: 6\n",
      "\n",
      "Contig Counts:\n",
      " - Original contigs: 7,716,447\n",
      " - After filtering: 3,260,052\n",
      "\n",
      "Statistics for KEPT files:\n",
      " - Mean GC %: 44.76\n",
      " - Mean Avg Length: 205546.4 bp\n",
      " - Total Bases Retained: 49,117,730,953\n",
      "\n",
      "Status breakdown:\n",
      "Status\n",
      "KEPT                        873\n",
      "DELETED (empty or error)      6\n",
      "Name: count, dtype: int64\n"
     ]
    }
   ],
   "source": [
    "protozoa_df = analyze_logs(log_dir, 'protozoa', 'train')"
   ],
   "metadata": {
    "collapsed": false,
    "ExecuteTime": {
     "end_time": "2025-06-16T11:44:57.035798Z",
     "start_time": "2025-06-16T11:44:57.030661Z"
    }
   },
   "id": "ad62a12e812094e0",
   "execution_count": 56
  },
  {
   "cell_type": "code",
   "outputs": [
    {
     "name": "stdout",
     "output_type": "stream",
     "text": [
      "----------TRAIN----------\n",
      "\n",
      "===== Summary for FUNGI =====\n",
      "Total genomes processed: 6895\n",
      " - KEPT: 6889\n",
      " - DELETED: 6\n",
      "\n",
      "Contig Counts:\n",
      " - Original contigs: 22,885,431\n",
      " - After filtering: 7,154,918\n",
      "\n",
      "Statistics for KEPT files:\n",
      " - Mean GC %: 46.49\n",
      " - Mean Avg Length: 404045.3 bp\n",
      " - Total Bases Retained: 219,024,695,767\n",
      "\n",
      "Status breakdown:\n",
      "Status\n",
      "KEPT                        6889\n",
      "DELETED (empty or error)       6\n",
      "Name: count, dtype: int64\n"
     ]
    }
   ],
   "source": [
    "fungi_df = analyze_logs(log_dir, 'fungi', 'train')"
   ],
   "metadata": {
    "collapsed": false,
    "ExecuteTime": {
     "end_time": "2025-06-16T11:44:57.046287Z",
     "start_time": "2025-06-16T11:44:57.037326Z"
    }
   },
   "id": "7d0614497d4f9167",
   "execution_count": 57
  },
  {
   "cell_type": "code",
   "outputs": [
    {
     "name": "stdout",
     "output_type": "stream",
     "text": [
      "----------VAL----------\n",
      "\n",
      "===== Summary for VIRAL =====\n",
      "Total genomes processed: 1730\n",
      " - KEPT: 1728\n",
      " - DELETED: 2\n",
      "\n",
      "Contig Counts:\n",
      " - Original contigs: 4,484\n",
      " - After filtering: 4,457\n",
      "\n",
      "Statistics for KEPT files:\n",
      " - Mean GC %: 45.92\n",
      " - Mean Avg Length: 33024.9 bp\n",
      " - Total Bases Retained: 69,955,905\n",
      "\n",
      "Status breakdown:\n",
      "Status\n",
      "KEPT                        1728\n",
      "DELETED (empty or error)       2\n",
      "Name: count, dtype: int64\n"
     ]
    }
   ],
   "source": [
    "viral_val_df = analyze_logs(log_dir, 'viral', 'val')"
   ],
   "metadata": {
    "collapsed": false,
    "ExecuteTime": {
     "end_time": "2025-06-16T11:44:57.051996Z",
     "start_time": "2025-06-16T11:44:57.046798Z"
    }
   },
   "id": "bbeea0921595405b",
   "execution_count": 58
  },
  {
   "cell_type": "code",
   "outputs": [
    {
     "name": "stdout",
     "output_type": "stream",
     "text": [
      "----------VAL----------\n",
      "\n",
      "===== Summary for ARCHAEA =====\n",
      "Total genomes processed: 566\n",
      " - KEPT: 566\n",
      " - DELETED: 0\n",
      "\n",
      "Contig Counts:\n",
      " - Original contigs: 93,128\n",
      " - After filtering: 93,013\n",
      "\n",
      "Statistics for KEPT files:\n",
      " - Mean GC %: 46.24\n",
      " - Mean Avg Length: 50170.7 bp\n",
      " - Total Bases Retained: 769,393,372\n",
      "\n",
      "Status breakdown:\n",
      "Status\n",
      "KEPT    566\n",
      "Name: count, dtype: int64\n"
     ]
    }
   ],
   "source": [
    "archaea_val_df = analyze_logs(log_dir, 'archaea', 'val') "
   ],
   "metadata": {
    "collapsed": false,
    "ExecuteTime": {
     "end_time": "2025-06-16T11:44:57.056040Z",
     "start_time": "2025-06-16T11:44:57.052498Z"
    }
   },
   "id": "5f72cff6cdd35340",
   "execution_count": 59
  },
  {
   "cell_type": "code",
   "outputs": [
    {
     "name": "stdout",
     "output_type": "stream",
     "text": [
      "----------VAL----------\n",
      "\n",
      "===== Summary for PROTOZOA =====\n",
      "Total genomes processed: 14\n",
      " - KEPT: 14\n",
      " - DELETED: 0\n",
      "\n",
      "Contig Counts:\n",
      " - Original contigs: 385,323\n",
      " - After filtering: 196,283\n",
      "\n",
      "Statistics for KEPT files:\n",
      " - Mean GC %: 43.02\n",
      " - Mean Avg Length: 308442.3 bp\n",
      " - Total Bases Retained: 720,581,149\n",
      "\n",
      "Status breakdown:\n",
      "Status\n",
      "KEPT    14\n",
      "Name: count, dtype: int64\n"
     ]
    }
   ],
   "source": [
    "protozoa_val_df = analyze_logs(log_dir, 'protozoa', 'val')"
   ],
   "metadata": {
    "collapsed": false,
    "ExecuteTime": {
     "end_time": "2025-06-16T11:44:57.060618Z",
     "start_time": "2025-06-16T11:44:57.056525Z"
    }
   },
   "id": "84e7595e85b0adb6",
   "execution_count": 60
  },
  {
   "cell_type": "code",
   "outputs": [
    {
     "name": "stdout",
     "output_type": "stream",
     "text": [
      "----------VAL----------\n",
      "\n",
      "===== Summary for FUNGI =====\n",
      "Total genomes processed: 299\n",
      " - KEPT: 299\n",
      " - DELETED: 0\n",
      "\n",
      "Contig Counts:\n",
      " - Original contigs: 365,026\n",
      " - After filtering: 156,083\n",
      "\n",
      "Statistics for KEPT files:\n",
      " - Mean GC %: 47.98\n",
      " - Mean Avg Length: 450098.2 bp\n",
      " - Total Bases Retained: 10,141,426,788\n",
      "\n",
      "Status breakdown:\n",
      "Status\n",
      "KEPT    299\n",
      "Name: count, dtype: int64\n"
     ]
    }
   ],
   "source": [
    "fungi_val_df = analyze_logs(log_dir, 'fungi', 'val')"
   ],
   "metadata": {
    "collapsed": false,
    "ExecuteTime": {
     "end_time": "2025-06-16T11:44:57.065209Z",
     "start_time": "2025-06-16T11:44:57.061055Z"
    }
   },
   "id": "9453689ac6c4201e",
   "execution_count": 61
  },
  {
   "cell_type": "code",
   "outputs": [
    {
     "name": "stdout",
     "output_type": "stream",
     "text": [
      "----------TEST----------\n",
      "\n",
      "===== Summary for VIRAL =====\n",
      "Total genomes processed: 22047\n",
      " - KEPT: 21585\n",
      " - DELETED: 462\n",
      "\n",
      "Contig Counts:\n",
      " - Original contigs: 96,619\n",
      " - After filtering: 96,023\n",
      "\n",
      "Statistics for KEPT files:\n",
      " - Mean GC %: 41.94\n",
      " - Mean Avg Length: 58710.1 bp\n",
      " - Total Bases Retained: 1,391,947,835\n",
      "\n",
      "Status breakdown:\n",
      "Status\n",
      "KEPT                        21585\n",
      "DELETED (empty or error)      462\n",
      "Name: count, dtype: int64\n"
     ]
    }
   ],
   "source": [
    "viral_test_df = analyze_logs(log_dir, 'viral', 'test')"
   ],
   "metadata": {
    "collapsed": false,
    "ExecuteTime": {
     "end_time": "2025-06-16T11:44:57.086804Z",
     "start_time": "2025-06-16T11:44:57.066342Z"
    }
   },
   "id": "8372f6adb0759f59",
   "execution_count": 62
  },
  {
   "cell_type": "code",
   "outputs": [
    {
     "name": "stdout",
     "output_type": "stream",
     "text": [
      "----------TEST----------\n",
      "\n",
      "===== Summary for ARCHAEA =====\n",
      "Total genomes processed: 2076\n",
      " - KEPT: 2075\n",
      " - DELETED: 1\n",
      "\n",
      "Contig Counts:\n",
      " - Original contigs: 368,163\n",
      " - After filtering: 367,183\n",
      "\n",
      "Statistics for KEPT files:\n",
      " - Mean GC %: 47.53\n",
      " - Mean Avg Length: 125850.9 bp\n",
      " - Total Bases Retained: 3,110,350,636\n",
      "\n",
      "Status breakdown:\n",
      "Status\n",
      "KEPT                        2075\n",
      "DELETED (empty or error)       1\n",
      "Name: count, dtype: int64\n"
     ]
    }
   ],
   "source": [
    "archaea_test_df = analyze_logs(log_dir, 'archaea', 'test')"
   ],
   "metadata": {
    "collapsed": false,
    "ExecuteTime": {
     "end_time": "2025-06-16T11:44:57.093105Z",
     "start_time": "2025-06-16T11:44:57.087290Z"
    }
   },
   "id": "3d1f041d0e05234",
   "execution_count": 63
  },
  {
   "cell_type": "code",
   "outputs": [
    {
     "name": "stdout",
     "output_type": "stream",
     "text": [
      "----------TEST----------\n",
      "\n",
      "===== Summary for PROTOZOA =====\n",
      "Total genomes processed: 385\n",
      " - KEPT: 384\n",
      " - DELETED: 1\n",
      "\n",
      "Contig Counts:\n",
      " - Original contigs: 986,885\n",
      " - After filtering: 729,262\n",
      "\n",
      "Statistics for KEPT files:\n",
      " - Mean GC %: 43.62\n",
      " - Mean Avg Length: 101282.5 bp\n",
      " - Total Bases Retained: 6,565,240,907\n",
      "\n",
      "Status breakdown:\n",
      "Status\n",
      "KEPT                        384\n",
      "DELETED (empty or error)      1\n",
      "Name: count, dtype: int64\n"
     ]
    }
   ],
   "source": [
    "protozoa_test_df = analyze_logs(log_dir, 'protozoa', 'test')"
   ],
   "metadata": {
    "collapsed": false,
    "ExecuteTime": {
     "end_time": "2025-06-16T11:44:57.097493Z",
     "start_time": "2025-06-16T11:44:57.093586Z"
    }
   },
   "id": "8f0b87c2f4ed7082",
   "execution_count": 64
  },
  {
   "cell_type": "code",
   "outputs": [
    {
     "name": "stdout",
     "output_type": "stream",
     "text": [
      "----------TEST----------\n",
      "\n",
      "===== Summary for FUNGI =====\n",
      "Total genomes processed: 2564\n",
      " - KEPT: 2564\n",
      " - DELETED: 0\n",
      "\n",
      "Contig Counts:\n",
      " - Original contigs: 4,386,266\n",
      " - After filtering: 1,848,270\n",
      "\n",
      "Statistics for KEPT files:\n",
      " - Mean GC %: 46.80\n",
      " - Mean Avg Length: 406296.1 bp\n",
      " - Total Bases Retained: 75,433,547,894\n",
      "\n",
      "Status breakdown:\n",
      "Status\n",
      "KEPT    2564\n",
      "Name: count, dtype: int64\n"
     ]
    }
   ],
   "source": [
    "fungi_test_df = analyze_logs(log_dir, 'fungi', 'test')"
   ],
   "metadata": {
    "collapsed": false,
    "ExecuteTime": {
     "end_time": "2025-06-16T11:44:57.103387Z",
     "start_time": "2025-06-16T11:44:57.098012Z"
    }
   },
   "id": "c3f90752259e7ff2",
   "execution_count": 65
  },
  {
   "cell_type": "code",
   "outputs": [
    {
     "name": "stdout",
     "output_type": "stream",
     "text": [
      "----------TRAIN----------\n",
      "\n",
      "===== Summary for PLASMID =====\n",
      "Total genomes processed: 81509\n",
      " - KEPT: 76374\n",
      " - DELETED: 5135\n",
      "\n",
      "Contig Counts:\n",
      " - Original contigs: 81,509\n",
      " - After filtering: 76,374\n",
      "\n",
      "Statistics for KEPT files:\n",
      " - Mean GC %: 47.04\n",
      " - Mean Avg Length: 85062.8 bp\n",
      " - Total Bases Retained: 6,496,585,913\n",
      "\n",
      "Status breakdown:\n",
      "Status\n",
      "KEPT                        76374\n",
      "DELETED (empty or error)     5135\n",
      "Name: count, dtype: int64\n"
     ]
    }
   ],
   "source": [
    "plasmid_df = analyze_logs(log_dir, 'plasmid', 'train')"
   ],
   "metadata": {
    "collapsed": false,
    "ExecuteTime": {
     "end_time": "2025-06-16T11:44:57.154594Z",
     "start_time": "2025-06-16T11:44:57.103924Z"
    }
   },
   "id": "864be494d3d78306",
   "execution_count": 66
  },
  {
   "cell_type": "code",
   "outputs": [
    {
     "name": "stdout",
     "output_type": "stream",
     "text": [
      "----------VAL----------\n",
      "\n",
      "===== Summary for PLASMID =====\n",
      "Total genomes processed: 4794\n",
      " - KEPT: 4497\n",
      " - DELETED: 297\n",
      "\n",
      "Contig Counts:\n",
      " - Original contigs: 4,794\n",
      " - After filtering: 4,497\n",
      "\n",
      "Statistics for KEPT files:\n",
      " - Mean GC %: 47.01\n",
      " - Mean Avg Length: 84854.6 bp\n",
      " - Total Bases Retained: 381,590,941\n",
      "\n",
      "Status breakdown:\n",
      "Status\n",
      "KEPT                        4497\n",
      "DELETED (empty or error)     297\n",
      "Name: count, dtype: int64\n"
     ]
    }
   ],
   "source": [
    "plasmid_val_df = analyze_logs(log_dir, 'plasmid', 'val')"
   ],
   "metadata": {
    "collapsed": false,
    "ExecuteTime": {
     "end_time": "2025-06-16T11:44:57.165210Z",
     "start_time": "2025-06-16T11:44:57.155152Z"
    }
   },
   "id": "dde611b30e9120ac",
   "execution_count": 67
  },
  {
   "cell_type": "code",
   "outputs": [
    {
     "name": "stdout",
     "output_type": "stream",
     "text": [
      "----------TEST----------\n",
      "\n",
      "===== Summary for PLASMID =====\n",
      "Total genomes processed: 9591\n",
      " - KEPT: 8981\n",
      " - DELETED: 610\n",
      "\n",
      "Contig Counts:\n",
      " - Original contigs: 9,591\n",
      " - After filtering: 8,981\n",
      "\n",
      "Statistics for KEPT files:\n",
      " - Mean GC %: 47.06\n",
      " - Mean Avg Length: 83905.9 bp\n",
      " - Total Bases Retained: 753,558,532\n",
      "\n",
      "Status breakdown:\n",
      "Status\n",
      "KEPT                        8981\n",
      "DELETED (empty or error)     610\n",
      "Name: count, dtype: int64\n"
     ]
    }
   ],
   "source": [
    "plasmid_test_df = analyze_logs(log_dir, 'plasmid', 'test')"
   ],
   "metadata": {
    "collapsed": false,
    "ExecuteTime": {
     "end_time": "2025-06-16T11:44:57.178063Z",
     "start_time": "2025-06-16T11:44:57.167194Z"
    }
   },
   "id": "9af815e15f92f5ec",
   "execution_count": 68
  },
  {
   "cell_type": "code",
   "outputs": [
    {
     "name": "stdout",
     "output_type": "stream",
     "text": [
      "----------TRAIN----------\n",
      "\n",
      "===== Summary for BACTERIA =====\n",
      "Total genomes processed: 180772\n",
      " - KEPT: 180116\n",
      " - DELETED: 656\n",
      "\n",
      "Contig Counts:\n",
      " - Original contigs: 23,504,784\n",
      " - After filtering: 17,359,293\n",
      "\n",
      "Statistics for KEPT files:\n",
      " - Mean GC %: 48.54\n",
      " - Mean Avg Length: 604095.8 bp\n",
      " - Total Bases Retained: 669,746,996,127\n",
      "\n",
      "Status breakdown:\n",
      "Status\n",
      "KEPT                        180116\n",
      "DELETED (empty or error)       656\n",
      "Name: count, dtype: int64\n"
     ]
    }
   ],
   "source": [
    "bacteria_df = analyze_logs(log_dir, 'bacteria', 'train')"
   ],
   "metadata": {
    "collapsed": false,
    "ExecuteTime": {
     "end_time": "2025-06-16T11:44:57.319587Z",
     "start_time": "2025-06-16T11:44:57.178603Z"
    }
   },
   "id": "431599a3822544d6",
   "execution_count": 69
  },
  {
   "cell_type": "code",
   "outputs": [
    {
     "name": "stdout",
     "output_type": "stream",
     "text": [
      "----------VAL----------\n",
      "\n",
      "===== Summary for BACTERIA =====\n",
      "Total genomes processed: 12096\n",
      " - KEPT: 12082\n",
      " - DELETED: 14\n",
      "\n",
      "Contig Counts:\n",
      " - Original contigs: 2,083,961\n",
      " - After filtering: 1,899,769\n",
      "\n",
      "Statistics for KEPT files:\n",
      " - Mean GC %: 48.86\n",
      " - Mean Avg Length: 547053.1 bp\n",
      " - Total Bases Retained: 40,661,519,996\n",
      "\n",
      "Status breakdown:\n",
      "Status\n",
      "KEPT                        12082\n",
      "DELETED (empty or error)       14\n",
      "Name: count, dtype: int64\n"
     ]
    }
   ],
   "source": [
    "bacteria_val_df = analyze_logs(log_dir, 'bacteria', 'val')"
   ],
   "metadata": {
    "collapsed": false,
    "ExecuteTime": {
     "end_time": "2025-06-16T11:44:57.332074Z",
     "start_time": "2025-06-16T11:44:57.320116Z"
    }
   },
   "id": "f310bc943b8b593d",
   "execution_count": 70
  },
  {
   "cell_type": "code",
   "outputs": [
    {
     "name": "stdout",
     "output_type": "stream",
     "text": [
      "----------TEST----------\n",
      "\n",
      "===== Summary for BACTERIA =====\n",
      "Total genomes processed: 74827\n",
      " - KEPT: 74780\n",
      " - DELETED: 47\n",
      "\n",
      "Contig Counts:\n",
      " - Original contigs: 14,444,862\n",
      " - After filtering: 12,984,304\n",
      "\n",
      "Statistics for KEPT files:\n",
      " - Mean GC %: 48.78\n",
      " - Mean Avg Length: 338347.6 bp\n",
      " - Total Bases Retained: 216,587,938,910\n",
      "\n",
      "Status breakdown:\n",
      "Status\n",
      "KEPT                        74780\n",
      "DELETED (empty or error)       47\n",
      "Name: count, dtype: int64\n"
     ]
    }
   ],
   "source": [
    "bacteria_test_df = analyze_logs(log_dir, 'bacteria', 'test')"
   ],
   "metadata": {
    "collapsed": false,
    "ExecuteTime": {
     "end_time": "2025-06-16T11:44:57.390437Z",
     "start_time": "2025-06-16T11:44:57.332669Z"
    }
   },
   "id": "bdd31d22d2c6915e",
   "execution_count": 71
  }
 ],
 "metadata": {
  "kernelspec": {
   "display_name": "Python 3",
   "language": "python",
   "name": "python3"
  },
  "language_info": {
   "codemirror_mode": {
    "name": "ipython",
    "version": 2
   },
   "file_extension": ".py",
   "mimetype": "text/x-python",
   "name": "python",
   "nbconvert_exporter": "python",
   "pygments_lexer": "ipython2",
   "version": "2.7.6"
  }
 },
 "nbformat": 4,
 "nbformat_minor": 5
}
