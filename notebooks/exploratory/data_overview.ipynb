{
 "cells": [
  {
   "cell_type": "markdown",
   "source": [
    "# Data Overview"
   ],
   "metadata": {
    "collapsed": false
   },
   "id": "e1bb91fac139da3a"
  },
  {
   "cell_type": "code",
   "outputs": [],
   "source": [
    "import pandas as pd\n",
    "import seaborn as sns\n",
    "import matplotlib.pyplot as plt\n",
    "from pathlib import Path"
   ],
   "metadata": {
    "collapsed": false,
    "ExecuteTime": {
     "end_time": "2025-05-23T13:16:10.059148Z",
     "start_time": "2025-05-23T13:16:10.056952Z"
    }
   },
   "id": "67680c244fcd8d79",
   "execution_count": 10
  },
  {
   "cell_type": "code",
   "outputs": [],
   "source": [
    "log_dir = Path('../../results/logs/raw-metadata')"
   ],
   "metadata": {
    "collapsed": false,
    "ExecuteTime": {
     "end_time": "2025-05-23T13:16:10.254764Z",
     "start_time": "2025-05-23T13:16:10.252288Z"
    }
   },
   "id": "d42d78785eda74c3",
   "execution_count": 11
  },
  {
   "cell_type": "code",
   "outputs": [],
   "source": [
    "def load_ftp_paths(log_dir, category):\n",
    "    # Get the path to the txt file\n",
    "    txt_file_path = list(log_dir.glob(f\"./{category}_ftp_paths.txt\"))\n",
    "    \n",
    "    # Ensure there's exactly one matching file\n",
    "    if not txt_file_path:\n",
    "        raise FileNotFoundError(\"No matching txt file found.\")\n",
    "    elif len(txt_file_path) > 1:\n",
    "        raise ValueError(\"Multiple matching txt files found.\")\n",
    "    \n",
    "    # Read the txt file into a DataFrame\n",
    "    df = pd.read_csv(txt_file_path[0], header=None, names=[\"path\"])  \n",
    "    return df"
   ],
   "metadata": {
    "collapsed": false,
    "ExecuteTime": {
     "end_time": "2025-05-23T13:16:10.548829Z",
     "start_time": "2025-05-23T13:16:10.543376Z"
    }
   },
   "id": "465a357eed9be973",
   "execution_count": 12
  },
  {
   "cell_type": "code",
   "outputs": [],
   "source": [
    "categories = ['bacteria', 'fungi', 'viral', 'archaea', 'protozoa']"
   ],
   "metadata": {
    "collapsed": false,
    "ExecuteTime": {
     "end_time": "2025-05-23T13:18:21.945876Z",
     "start_time": "2025-05-23T13:18:21.938895Z"
    }
   },
   "id": "860949ac626d2ae8",
   "execution_count": 16
  },
  {
   "cell_type": "code",
   "outputs": [],
   "source": [
    "ftp_files = {category: load_ftp_paths(log_dir, category) for category in categories}"
   ],
   "metadata": {
    "collapsed": false,
    "ExecuteTime": {
     "end_time": "2025-05-23T13:18:59.661845Z",
     "start_time": "2025-05-23T13:18:59.291842Z"
    }
   },
   "id": "570e3dc7045e2a7f",
   "execution_count": 17
  },
  {
   "cell_type": "code",
   "outputs": [
    {
     "name": "stdout",
     "output_type": "stream",
     "text": [
      "bacteria: path    267630\n",
      "dtype: int64\n",
      "fungi: path    9762\n",
      "dtype: int64\n",
      "viral: path    154164\n",
      "dtype: int64\n",
      "archaea: path    5883\n",
      "dtype: int64\n",
      "protozoa: path    1278\n",
      "dtype: int64\n"
     ]
    }
   ],
   "source": [
    "for category in categories:\n",
    "    print(f'{category}: {ftp_files[category].count()}')"
   ],
   "metadata": {
    "collapsed": false,
    "ExecuteTime": {
     "end_time": "2025-05-23T13:19:36.887985Z",
     "start_time": "2025-05-23T13:19:36.874799Z"
    }
   },
   "id": "7e8dbcf6e9f8c3d3",
   "execution_count": 18
  },
  {
   "cell_type": "code",
   "outputs": [],
   "source": [],
   "metadata": {
    "collapsed": false
   },
   "id": "4cb9deb174bbb143"
  }
 ],
 "metadata": {
  "kernelspec": {
   "display_name": "Python 3",
   "language": "python",
   "name": "python3"
  },
  "language_info": {
   "codemirror_mode": {
    "name": "ipython",
    "version": 2
   },
   "file_extension": ".py",
   "mimetype": "text/x-python",
   "name": "python",
   "nbconvert_exporter": "python",
   "pygments_lexer": "ipython2",
   "version": "2.7.6"
  }
 },
 "nbformat": 4,
 "nbformat_minor": 5
}
