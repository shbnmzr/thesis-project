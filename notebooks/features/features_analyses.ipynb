{
 "cells": [
  {
   "cell_type": "code",
   "outputs": [],
   "source": [
    "import torch\n",
    "import json\n",
    "import numpy as np\n",
    "import matplotlib.pyplot as plt\n",
    "from pathlib import Path"
   ],
   "metadata": {
    "collapsed": false,
    "ExecuteTime": {
     "end_time": "2025-06-06T10:15:31.422044Z",
     "start_time": "2025-06-06T10:15:31.397459Z"
    }
   },
   "id": "40d60f55ce7c6da7",
   "execution_count": 23
  },
  {
   "cell_type": "code",
   "outputs": [],
   "source": [
    "def load_data(out_dir, split, category):\n",
    "    features = torch.load(f\"{out_dir}/{split}_{category}_features.pt\")\n",
    "    labels = torch.load(f\"{out_dir}/{split}_{category}_labels.pt\")\n",
    "    with open(f\"{out_dir}/{split}_{category}_contigs.json\") as f:\n",
    "        contigs = json.load(f)\n",
    "    return features, labels, contigs"
   ],
   "metadata": {
    "collapsed": false,
    "ExecuteTime": {
     "end_time": "2025-06-06T10:15:31.430747Z",
     "start_time": "2025-06-06T10:15:31.425586Z"
    }
   },
   "id": "36a189b0b10c7ce6",
   "execution_count": 24
  },
  {
   "cell_type": "code",
   "outputs": [],
   "source": [
    "def analyze_feature_shape(features: torch.Tensor):\n",
    "    print(f\"[INFO] Features shape: {features.shape}\")"
   ],
   "metadata": {
    "collapsed": false,
    "ExecuteTime": {
     "end_time": "2025-06-06T10:15:31.433593Z",
     "start_time": "2025-06-06T10:15:31.431365Z"
    }
   },
   "id": "1080482c5e4114f4",
   "execution_count": 25
  },
  {
   "cell_type": "code",
   "outputs": [],
   "source": [
    "def analyze_label_distribution(labels: torch.Tensor):\n",
    "    unique, counts = labels.unique(return_counts=True)\n",
    "    print(\"[INFO] Label distribution:\")\n",
    "    for label, count in zip(unique.tolist(), counts.tolist()):\n",
    "        print(f\"  - Label {label}: {count} contigs\")"
   ],
   "metadata": {
    "collapsed": false,
    "ExecuteTime": {
     "end_time": "2025-06-06T10:15:31.438360Z",
     "start_time": "2025-06-06T10:15:31.435554Z"
    }
   },
   "id": "2f7e0dfc46fc44e1",
   "execution_count": 26
  },
  {
   "cell_type": "code",
   "outputs": [],
   "source": [
    "def summarize_metadata_stats(features: torch.Tensor):\n",
    "    metadata = features[:, :4]\n",
    "    names = [\"GC content\", \"Mean genome length\", \"Log contig length\", \"Ambiguity rate\"]\n",
    "    print(\"[INFO] Summary statistics for metadata features:\")\n",
    "    for i, name in enumerate(names):\n",
    "        col = metadata[:, i].numpy()\n",
    "        print(f\"  - {name}: min={col.min():.4f}, max={col.max():.4f}, mean={col.mean():.4f}, std={col.std():.4f}\")"
   ],
   "metadata": {
    "collapsed": false,
    "ExecuteTime": {
     "end_time": "2025-06-06T10:15:31.442835Z",
     "start_time": "2025-06-06T10:15:31.439070Z"
    }
   },
   "id": "62d32a090238795f",
   "execution_count": 27
  },
  {
   "cell_type": "code",
   "outputs": [],
   "source": [
    "def plot_gc_distribution(features: torch.Tensor, figure_dir: Path):\n",
    "    gc_values = features[:, 0].numpy()\n",
    "    plt.hist(gc_values, bins=50)\n",
    "    plt.title(\"GC Content Distribution\")\n",
    "    plt.xlabel(\"Normalized GC Content\")\n",
    "    plt.ylabel(\"Frequency\")\n",
    "    plt.savefig(figure_dir / \"gc_content_distribution.pdf\")\n",
    "    plt.clf()\n",
    "    plt.close()"
   ],
   "metadata": {
    "collapsed": false,
    "ExecuteTime": {
     "end_time": "2025-06-06T10:15:31.446354Z",
     "start_time": "2025-06-06T10:15:31.443504Z"
    }
   },
   "id": "a1c773f51f791203",
   "execution_count": 28
  },
  {
   "cell_type": "code",
   "outputs": [],
   "source": [
    "def plot_contig_length_distribution(features: torch.Tensor, figure_dir: Path):\n",
    "    log_lengths = features[:, 2].numpy() * 20  # Reverting log1p/20 normalization\n",
    "    lengths = np.expm1(log_lengths)\n",
    "    plt.hist(lengths, bins=100, log=True)\n",
    "    plt.title(\"Contig Length Distribution\")\n",
    "    plt.xlabel(\"Length (bp)\")\n",
    "    plt.ylabel(\"Frequency (log scale)\")\n",
    "    plt.savefig(figure_dir / \"contig_length_distribution.pdf\")\n",
    "    plt.clf()\n",
    "    plt.close()"
   ],
   "metadata": {
    "collapsed": false,
    "ExecuteTime": {
     "end_time": "2025-06-06T10:15:31.449995Z",
     "start_time": "2025-06-06T10:15:31.447260Z"
    }
   },
   "id": "d4151cbc9a916b9f",
   "execution_count": 29
  },
  {
   "cell_type": "code",
   "outputs": [],
   "source": [
    "def validate_kmer_sums(features: torch.Tensor, tolerance: float = 0.05):\n",
    "    kmer_vectors = features[:, 4:]\n",
    "    kmer_sums = kmer_vectors.sum(dim=1).numpy()\n",
    "    mean_sum = np.mean(kmer_sums)\n",
    "    std_sum = np.std(kmer_sums)\n",
    "    outliers = np.sum((kmer_sums < 1 - tolerance) | (kmer_sums > 1 + tolerance))\n",
    "    print(f\"[INFO] K-mer frequency vector sums:\")\n",
    "    print(f\"  - Mean: {mean_sum:.4f}, Std: {std_sum:.4f}\")\n",
    "    print(f\"  - Outliers (sum < {1 - tolerance:.2f} or > {1 + tolerance:.2f}): {outliers} out of {len(kmer_sums)}\")"
   ],
   "metadata": {
    "collapsed": false,
    "ExecuteTime": {
     "end_time": "2025-06-06T10:15:31.460960Z",
     "start_time": "2025-06-06T10:15:31.450527Z"
    }
   },
   "id": "edca5188ff7766d3",
   "execution_count": 30
  },
  {
   "cell_type": "code",
   "outputs": [],
   "source": [
    "def analyze_features(out_dir, split, category, figure_dir):\n",
    "    print(f\"[INFO] Analyzing features for {split} split of {category}\")\n",
    "    features, labels, contigs = load_data(out_dir, 'test', 'archaea')\n",
    "    analyze_feature_shape(features)\n",
    "    analyze_label_distribution(labels)\n",
    "    summarize_metadata_stats(features)\n",
    "    plot_gc_distribution(features, figure_dir)\n",
    "    plot_contig_length_distribution(features, figure_dir)\n",
    "    validate_kmer_sums(features)"
   ],
   "metadata": {
    "collapsed": false,
    "ExecuteTime": {
     "end_time": "2025-06-06T10:15:31.463646Z",
     "start_time": "2025-06-06T10:15:31.461508Z"
    }
   },
   "id": "d7c81e0e637c40c",
   "execution_count": 31
  },
  {
   "cell_type": "code",
   "execution_count": 32,
   "id": "initial_id",
   "metadata": {
    "collapsed": true,
    "ExecuteTime": {
     "end_time": "2025-06-06T10:15:31.467199Z",
     "start_time": "2025-06-06T10:15:31.465250Z"
    }
   },
   "outputs": [],
   "source": [
    "out_dir = Path('../../results/outputs')\n",
    "figures_dir = Path('../../figures/features')"
   ]
  },
  {
   "cell_type": "code",
   "outputs": [
    {
     "name": "stdout",
     "output_type": "stream",
     "text": [
      "[INFO] Analyzing features for test split of archaea\n",
      "[INFO] Features shape: torch.Size([367499, 260])\n",
      "[INFO] Label distribution:\n",
      "  - Label 1: 367499 contigs\n",
      "[INFO] Summary statistics for metadata features:\n",
      "  - GC content: min=0.2205, max=0.7332, mean=0.4780, std=0.0928\n",
      "  - Mean genome length: min=0.0015, max=6.0353, mean=0.0085, std=0.0463\n",
      "  - Log contig length: min=0.3108, max=0.7807, mean=0.4097, std=0.0509\n",
      "  - Ambiguity rate: min=0.0000, max=0.0995, mean=0.0006, std=0.0033\n",
      "[INFO] K-mer frequency vector sums:\n",
      "  - Mean: 1.0000, Std: 0.0000\n",
      "  - Outliers (sum < 0.95 or > 1.05): 0 out of 367499\n"
     ]
    }
   ],
   "source": [
    "analyze_features(out_dir, split='test', category='archaea', figure_dir=figures_dir)"
   ],
   "metadata": {
    "collapsed": false,
    "ExecuteTime": {
     "end_time": "2025-06-06T10:15:32.065633Z",
     "start_time": "2025-06-06T10:15:31.467682Z"
    }
   },
   "id": "e7962349f77f5603",
   "execution_count": 33
  },
  {
   "cell_type": "code",
   "outputs": [
    {
     "name": "stdout",
     "output_type": "stream",
     "text": [
      "[INFO] Analyzing features for val split of archaea\n",
      "[INFO] Features shape: torch.Size([367499, 260])\n",
      "[INFO] Label distribution:\n",
      "  - Label 1: 367499 contigs\n",
      "[INFO] Summary statistics for metadata features:\n",
      "  - GC content: min=0.2205, max=0.7332, mean=0.4780, std=0.0928\n",
      "  - Mean genome length: min=0.0015, max=6.0353, mean=0.0085, std=0.0463\n",
      "  - Log contig length: min=0.3108, max=0.7807, mean=0.4097, std=0.0509\n",
      "  - Ambiguity rate: min=0.0000, max=0.0995, mean=0.0006, std=0.0033\n",
      "[INFO] K-mer frequency vector sums:\n",
      "  - Mean: 1.0000, Std: 0.0000\n",
      "  - Outliers (sum < 0.95 or > 1.05): 0 out of 367499\n"
     ]
    }
   ],
   "source": [
    "analyze_features(out_dir, split='val', category='archaea', figure_dir=figures_dir)"
   ],
   "metadata": {
    "collapsed": false,
    "ExecuteTime": {
     "end_time": "2025-06-06T10:15:32.500276Z",
     "start_time": "2025-06-06T10:15:32.066892Z"
    }
   },
   "id": "e671e84c9358b12",
   "execution_count": 34
  }
 ],
 "metadata": {
  "kernelspec": {
   "display_name": "Python 3",
   "language": "python",
   "name": "python3"
  },
  "language_info": {
   "codemirror_mode": {
    "name": "ipython",
    "version": 2
   },
   "file_extension": ".py",
   "mimetype": "text/x-python",
   "name": "python",
   "nbconvert_exporter": "python",
   "pygments_lexer": "ipython2",
   "version": "2.7.6"
  }
 },
 "nbformat": 4,
 "nbformat_minor": 5
}
